{
 "cells": [
  {
   "cell_type": "code",
   "execution_count": 4,
   "metadata": {},
   "outputs": [],
   "source": [
    "import os, re\n",
    "import pandas as pd\n",
    "import pdfplumber"
   ]
  },
  {
   "cell_type": "code",
   "execution_count": 6,
   "metadata": {},
   "outputs": [
    {
     "data": {
      "text/plain": [
       "'NHF Daily Metal Bulletin 20220331.pdf'"
      ]
     },
     "execution_count": 6,
     "metadata": {},
     "output_type": "execute_result"
    }
   ],
   "source": [
    "pdf_dir = './NHF'\n",
    "pdf_list = os.listdir(pdf_dir)\n",
    "pdf_list[1]"
   ]
  },
  {
   "cell_type": "code",
   "execution_count": 10,
   "metadata": {},
   "outputs": [],
   "source": [
    "pdf = pdfplumber.open( pdf_dir +'/'+ pdf_list[1])\n",
    "separator_word = [\"Base Metals\",\"Base Metals\",\"4. LME Stocks\",\"5. SHFE 재고\", \"6. SHFE/ COMEX\", \"7. SHFE-LME SPREAD\",\"1. 주요시장 DATA\",\"1. Spot Precious Metals\",\"2. COMEX Futures\",\"3. TOCOM Futures\",\"4. SHFE Futures\",\"Comments\"]\n"
   ]
  },
  {
   "cell_type": "code",
   "execution_count": 35,
   "metadata": {},
   "outputs": [
    {
     "name": "stdout",
     "output_type": "stream",
     "text": [
      "['전기동(Cash) 10,383.00 10,366.01 10,419.51 10,280.51 10,381.01 -1.99', '전기동(3M) 10,388.00 10,371.50 10,425.00 10,286.00 10,386.50 -1.50 -9.49 -5.49 255,905 1,368', '알루미늄(Cash) 3,538.00 3,532.11 3,600.61 3,467.11 3,483.11 -54.89', '알루미늄(3M) 3,550.50 3,540.50 3,609.00 3,475.50 3,491.50 -59.00 -12.39 -8.39 609,012 -3,396', '아연 4,178.00 4,177.00 4,250.00 4,113.00 4,160.00 -18.00 58.00 60.00 235,758 2,839', '납 (연) 2,415.00 2,404.00 2,434.00 2,390.50 2,394.50 -20.50 3.50 5.50 111,715 720', '니켈 32,985.00 32,495.00 33,745.00 32,010.00 32,110.00 -875.00 -19.00 -17.00 189,278 235']\n"
     ]
    }
   ],
   "source": [
    "page = pdf.pages[0].extract_text()\n",
    "text_para = page.replace(')\\n', ')\\n\\n')\n",
    "text_list = str(text_para).split('\\n')\n",
    "print(text_list[8:15])"
   ]
  },
  {
   "cell_type": "code",
   "execution_count": 36,
   "metadata": {},
   "outputs": [],
   "source": [
    "col = ['전일종가', '[금일]시가','[금일]고가','[금일]저가','[금일]종가','변동폭','[Cash-3M]BID','[Cash-3M]ASK','[미결제약정]전일','[미결제약정]변동폭']\n",
    "table = pd.DataFrame(columns=col)"
   ]
  },
  {
   "cell_type": "code",
   "execution_count": 37,
   "metadata": {},
   "outputs": [
    {
     "data": {
      "text/html": [
       "<div>\n",
       "<style scoped>\n",
       "    .dataframe tbody tr th:only-of-type {\n",
       "        vertical-align: middle;\n",
       "    }\n",
       "\n",
       "    .dataframe tbody tr th {\n",
       "        vertical-align: top;\n",
       "    }\n",
       "\n",
       "    .dataframe thead th {\n",
       "        text-align: right;\n",
       "    }\n",
       "</style>\n",
       "<table border=\"1\" class=\"dataframe\">\n",
       "  <thead>\n",
       "    <tr style=\"text-align: right;\">\n",
       "      <th></th>\n",
       "      <th>전일종가</th>\n",
       "      <th>[금일]시가</th>\n",
       "      <th>[금일]고가</th>\n",
       "      <th>[금일]저가</th>\n",
       "      <th>[금일]종가</th>\n",
       "      <th>변동폭</th>\n",
       "      <th>[Cash-3M]BID</th>\n",
       "      <th>[Cash-3M]ASK</th>\n",
       "      <th>[미결제약정]전일</th>\n",
       "      <th>[미결제약정]변동폭</th>\n",
       "    </tr>\n",
       "  </thead>\n",
       "  <tbody>\n",
       "  </tbody>\n",
       "</table>\n",
       "</div>"
      ],
      "text/plain": [
       "Empty DataFrame\n",
       "Columns: [전일종가, [금일]시가, [금일]고가, [금일]저가, [금일]종가, 변동폭, [Cash-3M]BID, [Cash-3M]ASK, [미결제약정]전일, [미결제약정]변동폭]\n",
       "Index: []"
      ]
     },
     "execution_count": 37,
     "metadata": {},
     "output_type": "execute_result"
    }
   ],
   "source": [
    "table"
   ]
  },
  {
   "cell_type": "code",
   "execution_count": 39,
   "metadata": {},
   "outputs": [
    {
     "data": {
      "text/html": [
       "<div>\n",
       "<style scoped>\n",
       "    .dataframe tbody tr th:only-of-type {\n",
       "        vertical-align: middle;\n",
       "    }\n",
       "\n",
       "    .dataframe tbody tr th {\n",
       "        vertical-align: top;\n",
       "    }\n",
       "\n",
       "    .dataframe thead th {\n",
       "        text-align: right;\n",
       "    }\n",
       "</style>\n",
       "<table border=\"1\" class=\"dataframe\">\n",
       "  <thead>\n",
       "    <tr style=\"text-align: right;\">\n",
       "      <th></th>\n",
       "      <th>0</th>\n",
       "    </tr>\n",
       "  </thead>\n",
       "  <tbody>\n",
       "    <tr>\n",
       "      <th>0</th>\n",
       "      <td>전기동(Cash) 10,383.00 10,366.01 10,419.51 10,280...</td>\n",
       "    </tr>\n",
       "    <tr>\n",
       "      <th>1</th>\n",
       "      <td>전기동(3M) 10,388.00 10,371.50 10,425.00 10,286.0...</td>\n",
       "    </tr>\n",
       "    <tr>\n",
       "      <th>2</th>\n",
       "      <td>알루미늄(Cash) 3,538.00 3,532.11 3,600.61 3,467.11...</td>\n",
       "    </tr>\n",
       "    <tr>\n",
       "      <th>3</th>\n",
       "      <td>알루미늄(3M) 3,550.50 3,540.50 3,609.00 3,475.50 3...</td>\n",
       "    </tr>\n",
       "    <tr>\n",
       "      <th>4</th>\n",
       "      <td>아연 4,178.00 4,177.00 4,250.00 4,113.00 4,160.0...</td>\n",
       "    </tr>\n",
       "    <tr>\n",
       "      <th>5</th>\n",
       "      <td>납 (연) 2,415.00 2,404.00 2,434.00 2,390.50 2,39...</td>\n",
       "    </tr>\n",
       "    <tr>\n",
       "      <th>6</th>\n",
       "      <td>니켈 32,985.00 32,495.00 33,745.00 32,010.00 32,...</td>\n",
       "    </tr>\n",
       "  </tbody>\n",
       "</table>\n",
       "</div>"
      ],
      "text/plain": [
       "                                                   0\n",
       "0  전기동(Cash) 10,383.00 10,366.01 10,419.51 10,280...\n",
       "1  전기동(3M) 10,388.00 10,371.50 10,425.00 10,286.0...\n",
       "2  알루미늄(Cash) 3,538.00 3,532.11 3,600.61 3,467.11...\n",
       "3  알루미늄(3M) 3,550.50 3,540.50 3,609.00 3,475.50 3...\n",
       "4  아연 4,178.00 4,177.00 4,250.00 4,113.00 4,160.0...\n",
       "5  납 (연) 2,415.00 2,404.00 2,434.00 2,390.50 2,39...\n",
       "6  니켈 32,985.00 32,495.00 33,745.00 32,010.00 32,..."
      ]
     },
     "execution_count": 39,
     "metadata": {},
     "output_type": "execute_result"
    }
   ],
   "source": [
    "pd.DataFrame(text_list[8:15])"
   ]
  },
  {
   "cell_type": "code",
   "execution_count": 40,
   "metadata": {},
   "outputs": [
    {
     "data": {
      "text/plain": [
       "['Daily Metal Bulletin    ',\n",
       " '2022-03-31',\n",
       " 'Consulting/ Dealing Room: (02) 3774-0311 ~ 0321             FAX: (02) 761-2264 / 2265 글로벌상품영업팀',\n",
       " 'Base Metals',\n",
       " '전일 금           일 Cash - 3M 미결제약정(O/I)',\n",
       " '',\n",
       " '변동폭',\n",
       " '종가 시가 고가(B) 저가(A) 종가(A) BID ASK 전일  변동폭',\n",
       " '전기동(Cash) 10,383.00 10,366.01 10,419.51 10,280.51 10,381.01 -1.99',\n",
       " '전기동(3M) 10,388.00 10,371.50 10,425.00 10,286.00 10,386.50 -1.50 -9.49 -5.49 255,905 1,368',\n",
       " '알루미늄(Cash) 3,538.00 3,532.11 3,600.61 3,467.11 3,483.11 -54.89',\n",
       " '알루미늄(3M) 3,550.50 3,540.50 3,609.00 3,475.50 3,491.50 -59.00 -12.39 -8.39 609,012 -3,396',\n",
       " '아연 4,178.00 4,177.00 4,250.00 4,113.00 4,160.00 -18.00 58.00 60.00 235,758 2,839',\n",
       " '납 (연) 2,415.00 2,404.00 2,434.00 2,390.50 2,394.50 -20.50 3.50 5.50 111,715 720',\n",
       " '니켈 32,985.00 32,495.00 33,745.00 32,010.00 32,110.00 -875.00 -19.00 -17.00 189,278 235',\n",
       " '주석 42,460.00 42,430.00 42,950.00 42,400.00 42,910.00 450.00 945.00 955.00 14,158 -93',\n",
       " '* Base Metal 종가는 COMEX 종료시점 기준 (LONDON 18시00분)',\n",
       " '',\n",
       " '2. LME Official Settlement Prices (AM 2nd Ring) 3. LME Evening Valuation',\n",
       " '금    일 당월평균 전월평균 LME 정산가 (LONDON 17시00분)',\n",
       " '',\n",
       " 'Cash 3M Cash Cash 3M Cash 3M Apr May Jun',\n",
       " '전기동 10337.00 10335.00 10237.59 9941.35 9895.20 10367.51 10375.00 10372.50 10374.50 10377.50',\n",
       " '알루미늄 3503.00 3518.00 3537.85 3260.83 3224.18 3480.61 3491.00 3483.61 3487.11 3491.50',\n",
       " '아연 4260.00 4152.00 3974.30 3644.23 3628.55 4232.50 4173.50 4212.50 4202.50 4188.50',\n",
       " '납 (연) 2433.00 2427.00 2359.48 2299.90 2290.58 2420.50 2416.00 2422.00 2422.00 2422.50',\n",
       " '니켈 33400.00 33350.00 31860.65 24178.00 23735.50 32093.00 32107.00 32115.00 32095.00 32100.00',\n",
       " '주석 44200.00 42900.00 44248.91 44117.75 43819.50 43860.00 42910.00 43760.00 43510.00 43135.00',\n",
       " '      LME BASE METALS PRICE',\n",
       " '1']"
      ]
     },
     "execution_count": 40,
     "metadata": {},
     "output_type": "execute_result"
    }
   ],
   "source": [
    "text_para.split('\\n')"
   ]
  },
  {
   "cell_type": "code",
   "execution_count": null,
   "metadata": {},
   "outputs": [],
   "source": []
  }
 ],
 "metadata": {
  "interpreter": {
   "hash": "7f61bbf393fb77bc15d7d65ec76bc1290bb14284644af92bef26890bb2a58427"
  },
  "kernelspec": {
   "display_name": "Python 3.8.10 ('.venv': venv)",
   "language": "python",
   "name": "python3"
  },
  "language_info": {
   "codemirror_mode": {
    "name": "ipython",
    "version": 3
   },
   "file_extension": ".py",
   "mimetype": "text/x-python",
   "name": "python",
   "nbconvert_exporter": "python",
   "pygments_lexer": "ipython3",
   "version": "3.8.10"
  },
  "orig_nbformat": 4
 },
 "nbformat": 4,
 "nbformat_minor": 2
}
