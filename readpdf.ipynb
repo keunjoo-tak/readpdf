{
 "cells": [
  {
   "cell_type": "code",
   "execution_count": 2,
   "metadata": {},
   "outputs": [],
   "source": [
    "import fitz, re, os\n",
    "\n",
    "import requests"
   ]
  },
  {
   "cell_type": "markdown",
   "metadata": {},
   "source": [
    "#### PymuPDF(fitz)"
   ]
  },
  {
   "cell_type": "code",
   "execution_count": 30,
   "metadata": {},
   "outputs": [
    {
     "data": {
      "text/plain": [
       "['The Smithers Report Mar 10 2022.pdf',\n",
       " 'The Smithers Report Mar 14 2022.pdf',\n",
       " 'The Smithers Report Mar 15 2022.pdf',\n",
       " 'The Smithers Report Mar 16 2022.pdf',\n",
       " 'The Smithers Report Oct 21 2021.pdf']"
      ]
     },
     "execution_count": 30,
     "metadata": {},
     "output_type": "execute_result"
    }
   ],
   "source": [
    "path = \"./file\"\n",
    "pdf_list = os.listdir(path)\n",
    "pdf_list"
   ]
  },
  {
   "cell_type": "code",
   "execution_count": 31,
   "metadata": {},
   "outputs": [],
   "source": [
    "document = fitz.open('./file/The Smithers Report Mar 16 2022.pdf')"
   ]
  },
  {
   "cell_type": "code",
   "execution_count": 34,
   "metadata": {},
   "outputs": [
    {
     "name": "stdout",
     "output_type": "stream",
     "text": [
      "총 문자길이(갯수) :  9930\n"
     ]
    }
   ],
   "source": [
    "# 문자열 ext_text에 모든문자 저장\n",
    "ext_text = \"\"\n",
    "temp = \"\"\n",
    "\n",
    "for i in document :\n",
    "    temp = i.get_text()\n",
    "    temp = temp.replace(\"\\n\", \" \")\n",
    "    ext_text = ext_text + temp\n",
    "    temp = \"\"\n",
    "print('총 문자길이(갯수) : ', len(ext_text))"
   ]
  },
  {
   "cell_type": "code",
   "execution_count": 35,
   "metadata": {},
   "outputs": [],
   "source": [
    "# 문장 마지막단어 찾아 줄바꿈 개행문자 \"\\n\" 삽입\n",
    "txt = \"\"\n",
    "final_sent = re.compile(\"[a-z]*\\.\")\n",
    "\n",
    "for i in range(len(ext_text)):\n",
    "    txt = txt + ext_text[i]\n",
    "    m = final_sent.findall(ext_text[i])\n",
    "    if m:\n",
    "        txt = txt + \"\\n\""
   ]
  },
  {
   "cell_type": "code",
   "execution_count": 36,
   "metadata": {},
   "outputs": [],
   "source": [
    "# pdf to binary text 저장\n",
    "file = open('./output/ext_text.txt', 'wb')\n",
    "file.write(txt.encode('UTF-8'))\n",
    "file.close()"
   ]
  },
  {
   "cell_type": "code",
   "execution_count": 37,
   "metadata": {},
   "outputs": [
    {
     "name": "stdout",
     "output_type": "stream",
     "text": [
      "문장 길이 :  74\n"
     ]
    }
   ],
   "source": [
    "# 저장된 Text 파일 읽기\n",
    "\n",
    "file = open('./output/ext_text.txt', 'rb')\n",
    "text = file.readlines()\n",
    "file.close()\n",
    "\n",
    "print(\"문장 길이 : \", len(text))"
   ]
  },
  {
   "cell_type": "markdown",
   "metadata": {},
   "source": [
    "#### Use papago translator"
   ]
  },
  {
   "cell_type": "code",
   "execution_count": 62,
   "metadata": {},
   "outputs": [
    {
     "name": "stdout",
     "output_type": "stream",
     "text": [
      "원문 :  This work is an application of a widely-used machine learning technique, known as bag-of-keypoints (or words), often applied to computer vision problems.\n"
     ]
    },
    {
     "ename": "KeyError",
     "evalue": "'message'",
     "output_type": "error",
     "traceback": [
      "\u001b[1;31m---------------------------------------------------------------------------\u001b[0m",
      "\u001b[1;31mKeyError\u001b[0m                                  Traceback (most recent call last)",
      "\u001b[1;32md:\\dev\\git\\readpdf\\readpdf.ipynb Cell 10'\u001b[0m in \u001b[0;36m<cell line: 18>\u001b[1;34m()\u001b[0m\n\u001b[0;32m     <a href='vscode-notebook-cell:/d%3A/dev/git/readpdf/readpdf.ipynb#ch0000009?line=13'>14</a>\u001b[0m result \u001b[39m=\u001b[39m response\u001b[39m.\u001b[39mjson()\n\u001b[0;32m     <a href='vscode-notebook-cell:/d%3A/dev/git/readpdf/readpdf.ipynb#ch0000009?line=15'>16</a>\u001b[0m \u001b[39mprint\u001b[39m(\u001b[39m\"\u001b[39m\u001b[39m원문 : \u001b[39m\u001b[39m\"\u001b[39m, txt)\n\u001b[1;32m---> <a href='vscode-notebook-cell:/d%3A/dev/git/readpdf/readpdf.ipynb#ch0000009?line=17'>18</a>\u001b[0m \u001b[39mprint\u001b[39m(\u001b[39m\"\u001b[39m\u001b[39m번역결과 : \u001b[39m\u001b[39m\"\u001b[39m, result[\u001b[39m\"\u001b[39;49m\u001b[39mmessage\u001b[39;49m\u001b[39m\"\u001b[39;49m][\u001b[39m\"\u001b[39m\u001b[39mresult\u001b[39m\u001b[39m\"\u001b[39m][\u001b[39m\"\u001b[39m\u001b[39mtranslatedText\u001b[39m\u001b[39m\"\u001b[39m])\n",
      "\u001b[1;31mKeyError\u001b[0m: 'message'"
     ]
    }
   ],
   "source": [
    "txt = 'This work is an application of a widely-used machine '\\\n",
    "    'learning technique, known as bag-of-keypoints (or words), '\\\n",
    "    'often applied to computer vision problems.'\n",
    "\n",
    "request_url = \"https://openapi.naver.com/v1/papago/n2mt\"\n",
    "\n",
    "headers ={\"X-Naver-Client-Id\": \"bKDF0OQ3yFRyAr3A5WRH\",\\\n",
    "    \"X-Naver-Client-Secret\": \"Vb20egnSMZ\"}\n",
    "\n",
    "# ClientID, ClientSecret 발급받아야함.\n",
    "\n",
    "params = {\"source\": \"en\", \"target\": \"ko\", \"text\": txt}\n",
    "response =requests.post(request_url, headers=headers, data=params)\n",
    "result = response.json()\n",
    "\n",
    "print(\"원문 : \", txt)\n",
    "\n",
    "print(\"번역결과 : \", result[\"message\"][\"result\"][\"translatedText\"])"
   ]
  },
  {
   "cell_type": "markdown",
   "metadata": {},
   "source": [
    "#### user tika"
   ]
  },
  {
   "cell_type": "code",
   "execution_count": 113,
   "metadata": {},
   "outputs": [],
   "source": [
    "from tika import parser\n",
    "pdf_path = \"./file/The Smithers Report Oct 21 2021`.pdf\"\n",
    "parsed = parser.from_file(pdf_path)\n",
    "\n",
    "txt = open('output.txt', 'w', encoding='utf-8')\n",
    "\n",
    "print(parsed['content'][42:], file = txt)\n",
    "txt.close()"
   ]
  },
  {
   "cell_type": "code",
   "execution_count": 114,
   "metadata": {},
   "outputs": [
    {
     "name": "stdout",
     "output_type": "stream",
     "text": [
      " Bridgestone has announced it is suspending manufacturing activities in Russia until further notice. The  decision will take effect Friday, March 18, after the necessary preparations are made. The company has  also decided to freeze any new investments and suspend all exports to Russia with immediate effect. Bridgestone said in a statement: “Over the last weeks, we have been deeply affected by the war in Ukraine  and its impact on many innocent people including our own employees and partners. We condemn any form  of violence and hope that peace can quickly be re-established. Our primary concern in this crisis, is the  safety of our employees and their families. We continue to care for our more than 1,000 employees in our  passenger tire production plant in Ulyanovsk and our sales offices. Therefore, we will support our  employees financially at this time.”  The tire maker added that its global and regional management will continue to closely monitor the situation  and flexibly adapt plans as needed. The tire maker expects manufacturing output outside Russia to remain  stable in the coming weeks.  WHAT'S NEW IN TIRES  Bridgestone suspends manufacturing activities in and export to Russia  (Bridgestone -  Brussels, Belgium)\n",
      "\n",
      "Due to the conflict involving Russia and Ukraine, Continental is suspending production at its Russian plant  in Kaluga as well as import and export of products to and from Russia, the company announced last week. In a statement the automotive parts and tire maker said: “In light of the war against Ukraine and the  associated current upheaval, Continental has decided to suspend production at its Kaluga plant.” The  company will use stock from local warehouses to cope with existing demand, a report by Reuters said. The tire plant in Kaluga supplies global automakers, including Volkswagen, Renault, Ford, Nissan, Toyota  with original equipment products and also the Russian replacement market. Tires produced at the plant are  exported to 24 countries in Europe, Asia and North America, according to information on Continental’s  website.  Manufacturing on hold at Continental’s Russian plant in Kaluga  (Staff and wire reports)\n",
      "\n",
      "    Zhongce Rubber Group Co. of China (ZC Rubber) has announced the purchase of Tianjin United Tire &  Rubber International Co., Ltd (TUTRIC), maker of Tianli brand tires in China, for about $250 million. On January 30, 2022, ZC Rubber set up in Tianjin at the TUTRIC factory with registered capital of $86.9  million, according to industry news reports. The new company will officially begin business there on April 1.  Zhongce Rubber said it acquired TUTRIC for the company’s bias OTR tire production lines and location  advantages. The acquisition gives the company its first plant in the north of China, and TUTRIC is one of  the few manufacturers that can produce a full range of OTR and specialty tires in China, according to ZC  Rubber. Through the acquisition, ZC Rubber will have manufacturing facilities in Zhejiang, Tianjin, and Thailand.  The latest transaction will help the company optimize its production bases and utilize the Tianjin port. The  deal will also increase product lines and tire sizes produced by ZC Rubber, as well as providing new  channels and access to new customers, while increasing ZC Rubber’s market share.  FINANCE  ZC Rubber acquires tire maker TUTRIC for $250M  (ZC Rubber - Tianjin, China)\n",
      "\n",
      "Tire Discounters recently opened a new store in Chamblee near Atlanta, located at 5585 Peachtree Blvd.  The company says it has a goal of opening of 25 stores across the state, with a specific focus on the  Atlanta area, by the end of 2022.  Tire Discounters has opened and integrated with several businesses throughout Georgia and the greater  Atlanta area over the last two years, including Bulldog Tire (Covington, Monroe, and Snellville), Porterfield  Tire (Watkinsville and Athens) and North Georgia Tire. An auto glass company, Lightning Auto Glass,  located in Chamblee, was also added late last year. These stores joined other locations in Perimeter  Pointe, Ft. Oglethorpe, Lawrenceville, and Dalton.  The tire sales and automotive service chain will also be adding a 75,000 square foot warehouse,  distribution and training facility in metro Atlanta. Tire Discounters says it is the largest, 100% family-owned and operated independent tire and service  provider in the US. The business employs more than 1,600 people in over 160 locations in Ohio, Kentucky,  Indiana, Tennessee, Georgia, Alabama, and Virginia. It operates four distribution centers, located in  Sharonville, Ohio; La Vergne, Tennessee; Athens, Georgia and Monroe, Georgia. The company's  headquarters is in Cincinnati, Ohio.  WHAT'S NEW IN TIRES  Tire Discounters continuing expansion in Atlanta area  (Tire Discounters - Sandy Springs, GA)\n",
      "\n",
      "Korean tire maker Kumho reports it has ranked among the top 12% of the automotive parts industry in the  environmental, social, and governance (ESG) evaluation recently conducted by Morgan Stanley Capital  International (MSCI). The company received a BBB grade in 2019, an A grade in 2021, and an AA grade  this year, demonstrating a steadily rising score year over year. The MSCI ESG Ratings is an ESG evaluation model developed to build and manage investment portfolios.  Companies are rated on a scale of AAA to CCC, according to their exposure to industry-specific ESG risks  and risk management capabilities relative to their peers.  According to the MSCI report, Kumho received excellent reviews for its environmental impact management,  such as reducing toxic emissions and developing products for electric vehicles. The company was also  recognized for its customized talent development program, a new division that was established to speed up  its ESG work.  FINANCE  Kumho achieves AA grade in latest Morgan Stanley ESG Ratings  (Kumho Tire – Seoul, Korea)\n",
      "\n",
      "    Yokohama Rubber has announced it will expand conveyor belt production capacity at its factory in  Hiratsuka City, Kanagawa Prefecture in Japan. The effort will strengthen the company’s industrial products  business, it said. The expansion will be conducted in stages, with the initial stage amounting to a capital investment of about  ¥1.6 billion ($13.5 million). New production lines will be added to the plant for a diverse range of fabric belts  that can be used on conveyor belts requiring abrasion resistance, heat resistance, oil resistance, flame  resistance, and reduced power consumption.  The Hiratsuka factory’s current capacity will be increased by 1.3 times when the work is complete.  Construction is underway with the additional production planned to start in October 2023.  RELATED MATTERS  Yokohama Rubber to expand conveyor belt production capacity at Hiratsuka factory  (Yokohama Rubber - Tokyo, Japan)\n",
      "\n",
      "The Tire and Rubber Association of Canada is seeking nominations for its inaugural Industry Leadership  Awards that are designed to celebrate achievements and give individuals and organizations a platform to  showcase their contributions to the industry. The awards recognize outstanding individuals and companies for their dedication and commitment to  excellence in the tire and rubber industry, including end-of-life tire management businesses and other  businesses focused on sustainability. The nominations are open until April 15, 2022, in four categories: Leader of the Year, Young Leader,  Lifetime Achievement, and Sustainability. Additional details are available at https://tracanada.ca/tire-and- rubber-industry-leadership-awards/. Anyone can nominate a deserving individual or organization and self- nominations are also accepted.  Corporate nominees must have an office or facility, in Canada. Nominated individuals can be domiciled  anywhere. The awards ceremony will take place in conjunction with TRAC’s annual general meeting on June 15, 2022.  Tire and Rubber Association of Canada calls for industry leadership award nominations  (Tire and Rubber Association of Canada – Cambridge, Ontario)\n",
      "\n",
      "The Smithers Report   \n"
     ]
    }
   ],
   "source": [
    "# print(parsed['content'])\n",
    "txt_content = parsed['content'][385:] # 빈공백 지워주기\n",
    "txt_content_rep_regex = txt_content.replace('\\n', ' ')\n",
    "txt_content_rep_regex = txt_content_rep_regex.replace(')  ', ')\\n\\n')\n",
    "txt_content_rep_regex = re.sub(\"The Smithers Report - \\w+ \\w{2}, \\w{4} Page \\w+ of \\w+\", \"\", txt_content_rep_regex)\n",
    "\n",
    "txt = \"\"\n",
    "final_sent = re.compile(\"[a-z]*\\. \")\n",
    "# final_para = re.compile(\"\\)\\s\")\n",
    "\n",
    "for i in range(len(txt_content_rep_regex)):\n",
    "    txt = txt + txt_content_rep_regex[i]\n",
    "    m = final_sent.findall(txt_content_rep_regex[i])\n",
    "    # n = final_para.findall(txt_content_rep_regex[i])\n",
    "    if m:\n",
    "        txt = txt + \"\\n\"\n",
    "    # elif n:\n",
    "    #     txt = txt + \"\\n\\n\"\n",
    "\n",
    "print(txt)\n",
    "\n",
    "# request_url = \"https://openapi.naver.com/v1/papago/n2mt\"\n",
    "\n",
    "# headers ={\"X-Naver-Client-Id\": \"bKDF0OQ3yFRyAr3A5WRH\",\\\n",
    "#     \"X-Naver-Client-Secret\": \"Vb20egnSMZ\"}\n",
    "\n",
    "# # ClientID, ClientSecret 발급받아야함.\n",
    "\n",
    "# params = {\"source\": \"en\", \"target\": \"ko\", \"text\": txt}\n",
    "# response =requests.post(request_url, headers=headers, data=params)\n",
    "# result = response.json()\n",
    "\n",
    "\n",
    "\n",
    "# print(\"원문 : \", txt)\n",
    "\n",
    "# print(\"번역결과 : \", result[\"message\"][\"result\"][\"translatedText\"])\n"
   ]
  },
  {
   "cell_type": "code",
   "execution_count": 6,
   "metadata": {},
   "outputs": [],
   "source": [
    "temp_txt = \"Continental has signed a development agreement with Pyrum Innovations, a Germany-headquartered  specialist in the pyrolysis of end-of-life tires. The collaboration will help expand the recycling of end-of-life  tires through pyrolysis and the recovery of high-quality carbon black (rCB) for the company’s tire  production.  Continental's subsidiary, Reifen-Entsorgungsgesellschaft (REG), will begin supplying end-of-life tires to  Pyrum as early as this month. In the long term, the partners aim is to establish a circular economy concept  for the recycling of end-of-life tires.  Since Pyrum's IPO in 2021, Continental has held a minority stake in the company. Continental’s goal is to recover valuable materials and high-performance raw materials on an industrial  scale in the future for tire production and other uses.  Continental's goal is to successively use 100% sustainably produced materials in its tire products by 2050  at the latest.  WHAT'S NEW IN TIRES  Continental and Pyrum Innovations enter agreement for supply of rCB  (Continental – Hanover, Germany)\"\n",
    "\n",
    "\n",
    "txt = \"\"\n",
    "final_sent = re.compile(\"[a-z]*\\. \")\n",
    "final_para = re.compile(\"\\(*\\-+*\\,+*\\)\")\n",
    "\n",
    "for i in range(len(temp_txt)):\n",
    "    txt = txt + temp_txt[i]\n",
    "    m = final_sent.findall(temp_txt[i])\n",
    "    n = final_para.findall(temp_txt[i])\n",
    "    if m:\n",
    "        txt = txt + \"\\n\"\n",
    "    elif n:\n",
    "        txt = txt + \"\\n\\n\"\n",
    "\n",
    "txt_para = txt.split('\\n\\n')\n",
    "\n",
    "request_url = \"https://openapi.naver.com/v1/papago/n2mt\"\n",
    "headers ={\"X-Naver-Client-Id\": \"bKDF0OQ3yFRyAr3A5WRH\", \"X-Naver-Client-Secret\": \"Vb20egnSMZ\"}\n",
    "\n",
    "\n",
    "txt = open('output.txt', 'w', encoding='utf-8')\n",
    "\n",
    "for i in range(len(txt_para)-1) :\n",
    "    params = {\"source\": \"en\", \"target\": \"ko\", \"text\": txt_para[i]}\n",
    "    response =requests.post(request_url, headers=headers, data=params)\n",
    "    result = response.json()\n",
    "    if result[\"message\"] :\n",
    "        print(\"원문 : \", txt_para[i], file = txt)\n",
    "        print(\"번역결과 : \", result[\"message\"][\"result\"][\"translatedText\"], file = txt)\n",
    "    else : \n",
    "        pass\n",
    "txt.close()\n"
   ]
  },
  {
   "cell_type": "code",
   "execution_count": null,
   "metadata": {},
   "outputs": [],
   "source": []
  },
  {
   "cell_type": "code",
   "execution_count": null,
   "metadata": {},
   "outputs": [],
   "source": []
  }
 ],
 "metadata": {
  "interpreter": {
   "hash": "7f61bbf393fb77bc15d7d65ec76bc1290bb14284644af92bef26890bb2a58427"
  },
  "kernelspec": {
   "display_name": "Python 3.8.10 ('.venv': venv)",
   "language": "python",
   "name": "python3"
  },
  "language_info": {
   "codemirror_mode": {
    "name": "ipython",
    "version": 3
   },
   "file_extension": ".py",
   "mimetype": "text/x-python",
   "name": "python",
   "nbconvert_exporter": "python",
   "pygments_lexer": "ipython3",
   "version": "3.8.10"
  },
  "orig_nbformat": 4
 },
 "nbformat": 4,
 "nbformat_minor": 2
}
