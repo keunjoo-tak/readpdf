{
 "cells": [
  {
   "cell_type": "code",
   "execution_count": 29,
   "metadata": {},
   "outputs": [],
   "source": [
    "import fitz, re, os\n",
    "\n",
    "import requests"
   ]
  },
  {
   "cell_type": "markdown",
   "metadata": {},
   "source": [
    "#### PymuPDF(fitz)"
   ]
  },
  {
   "cell_type": "code",
   "execution_count": 30,
   "metadata": {},
   "outputs": [
    {
     "data": {
      "text/plain": [
       "['The Smithers Report Mar 10 2022.pdf',\n",
       " 'The Smithers Report Mar 14 2022.pdf',\n",
       " 'The Smithers Report Mar 15 2022.pdf',\n",
       " 'The Smithers Report Mar 16 2022.pdf',\n",
       " 'The Smithers Report Oct 21 2021.pdf']"
      ]
     },
     "execution_count": 30,
     "metadata": {},
     "output_type": "execute_result"
    }
   ],
   "source": [
    "path = \"./file\"\n",
    "pdf_list = os.listdir(path)\n",
    "pdf_list"
   ]
  },
  {
   "cell_type": "code",
   "execution_count": 31,
   "metadata": {},
   "outputs": [],
   "source": [
    "document = fitz.open('./file/The Smithers Report Mar 16 2022.pdf')"
   ]
  },
  {
   "cell_type": "code",
   "execution_count": 34,
   "metadata": {},
   "outputs": [
    {
     "name": "stdout",
     "output_type": "stream",
     "text": [
      "총 문자길이(갯수) :  9930\n"
     ]
    }
   ],
   "source": [
    "# 문자열 ext_text에 모든문자 저장\n",
    "ext_text = \"\"\n",
    "temp = \"\"\n",
    "\n",
    "for i in document :\n",
    "    temp = i.get_text()\n",
    "    temp = temp.replace(\"\\n\", \" \")\n",
    "    ext_text = ext_text + temp\n",
    "    temp = \"\"\n",
    "print('총 문자길이(갯수) : ', len(ext_text))"
   ]
  },
  {
   "cell_type": "code",
   "execution_count": 35,
   "metadata": {},
   "outputs": [],
   "source": [
    "# 문장 마지막단어 찾아 줄바꿈 개행문자 \"\\n\" 삽입\n",
    "txt = \"\"\n",
    "final_sent = re.compile(\"[a-z]*\\.\")\n",
    "\n",
    "for i in range(len(ext_text)):\n",
    "    txt = txt + ext_text[i]\n",
    "    m = final_sent.findall(ext_text[i])\n",
    "    if m:\n",
    "        txt = txt + \"\\n\""
   ]
  },
  {
   "cell_type": "code",
   "execution_count": 36,
   "metadata": {},
   "outputs": [],
   "source": [
    "# pdf to binary text 저장\n",
    "file = open('./output/ext_text.txt', 'wb')\n",
    "file.write(txt.encode('UTF-8'))\n",
    "file.close()"
   ]
  },
  {
   "cell_type": "code",
   "execution_count": 37,
   "metadata": {},
   "outputs": [
    {
     "name": "stdout",
     "output_type": "stream",
     "text": [
      "문장 길이 :  74\n"
     ]
    }
   ],
   "source": [
    "# 저장된 Text 파일 읽기\n",
    "\n",
    "file = open('./output/ext_text.txt', 'rb')\n",
    "text = file.readlines()\n",
    "file.close()\n",
    "\n",
    "print(\"문장 길이 : \", len(text))"
   ]
  },
  {
   "cell_type": "markdown",
   "metadata": {},
   "source": [
    "#### Use papago translator"
   ]
  },
  {
   "cell_type": "code",
   "execution_count": 38,
   "metadata": {},
   "outputs": [
    {
     "name": "stdout",
     "output_type": "stream",
     "text": [
      "원문 :  This work is an application of a widely-used machine learning technique, known as bag-of-keypoints (or words), often applied to computer vision problems.\n",
      "번역결과 :  이 작업은 컴퓨터 비전 문제에 종종 적용되는 키포인트 가방(또는 단어)으로 알려진 널리 사용되는 기계 학습 기술을 적용한 것입니다.\n"
     ]
    }
   ],
   "source": [
    "txt = 'This work is an application of a widely-used machine '\\\n",
    "    'learning technique, known as bag-of-keypoints (or words), '\\\n",
    "    'often applied to computer vision problems.'\n",
    "\n",
    "request_url = \"https://openapi.naver.com/v1/papago/n2mt\"\n",
    "\n",
    "headers ={\"X-Naver-Client-Id\": \"bKDF0OQ3yFRyAr3A5WRH\",\\\n",
    "    \"X-Naver-Client-Secret\": \"Vb20egnSMZ\"}\n",
    "\n",
    "# ClientID, ClientSecret 발급받아야함.\n",
    "\n",
    "params = {\"source\": \"en\", \"target\": \"ko\", \"text\": txt}\n",
    "response =requests.post(request_url, headers=headers, data=params)\n",
    "result = response.json()\n",
    "\n",
    "print(\"원문 : \", txt)\n",
    "\n",
    "print(\"번역결과 : \", result[\"message\"][\"result\"][\"translatedText\"])"
   ]
  },
  {
   "cell_type": "markdown",
   "metadata": {},
   "source": [
    "#### user tika"
   ]
  },
  {
   "cell_type": "code",
   "execution_count": 94,
   "metadata": {},
   "outputs": [],
   "source": [
    "from tika import parser\n",
    "pdf_path = \"./file/The Smithers Report Mar 15 2022.pdf\"\n",
    "parsed = parser.from_file(pdf_path)\n",
    "\n",
    "txt = open('output.txt', 'w', encoding='utf-8')\n",
    "\n",
    "print(parsed['content'][42:], file = txt)\n",
    "txt.close()"
   ]
  },
  {
   "cell_type": "code",
   "execution_count": 121,
   "metadata": {},
   "outputs": [
    {
     "name": "stdout",
     "output_type": "stream",
     "text": [
      "원문 :   Continental has signed a development agreement with Pyrum Innovations, a Germany-headquartered  specialist in the pyrolysis of end-of-life tires.\n",
      " The collaboration will help expand the recycling of end-of-life  tires through pyrolysis and the recovery of high-quality carbon black (rCB)\n",
      "\n",
      " for the company’s tire  production.\n",
      "  Continental's subsidiary, Reifen-Entsorgungsgesellschaft (REG)\n",
      "\n",
      ", will begin supplying end-of-life tires to  Pyrum as early as this month.\n",
      " In the long term, the partners aim is to establish a circular economy concept  for the recycling of end-of-life tires.\n",
      "  Since Pyrum's IPO in 2021, Continental has held a minority stake in the company.\n",
      " Continental’s goal is to recover valuable materials and high-performance raw materials on an industrial  scale in the future for tire production and other uses.\n",
      "  Continental's goal is to successively use 100% sustainably produced materials in its tire products by 2050  at the latest.\n",
      "  WHAT'S NEW IN TIRES  Continental and Pyrum Innovations enter agreement for supply of rCB  (Continental – Hanover, Germany)\n",
      "\n",
      "  Hankook Tire has pilot tested a new driving optimization tool intended to provide data analysis for fleet  operators based on driving habits.\n",
      " The solution was tested with EHWA Air and Travel Agency, a South  Korean travel company, from July 2020 to September 2021, and involved drivers of four regional buses that  travel more than 7,000kms per month.\n",
      "  The solution developed by Hankook is aimed at improving fuel efficiency and extending tire life.\n",
      " The  company collected and analyzed various data with a driving recorder, GPS and tire sensor attached to  vehicles.\n",
      " Hankook monitored data and carried out analysis of each bus driver’s driving habits, such as  speed, rapid acceleration and deceleration, braking and idling.\n",
      " Based on the result, the tire manufacturer  delivered an improvement guide to EHWA Air and Travel Agency for driver training, tire maintenance and  vehicle management.\n",
      "  The data collected by the tire maker revealed that there is more tire wear and fuel usage from increased  braking time and when the engine is left running idly.\n",
      " The biggest difference revealed in the test data was  up to a 20% drop in fuel usage when avoiding frequent braking and engine idling.\n",
      "  In addition, it was observed that tire pressure commonly decreased in the winter season.\n",
      " Due to low  temperatures, air pressure inside a tire which normally is around 120 psi dropped to as low as 96 psi.\n",
      "  Based on this finding, Hankook says it is evident that tire pressure inspection is critical in winter and  checking tire pressure every two months can reduce fuel consumption.\n",
      "  Hankook noted that its optimization solution is beneficial in economic and environmental aspects.\n",
      " Changing  driving habits such as sudden braking and idling can lower operating costs as well as the amount of carbon  dioxide generated, it said.\n",
      "  Hankook fleet study analyzes effect of driving habits on fuel economy and tire wear  (Hankook Tire – Seoul, Korea)\n",
      "\n",
      "    The Smithers Report - March 15, 2022 Page 2 of 3  Hercules Tires, a subsidiary of American Tire Distributors (ATD)\n",
      "\n",
      ", has launched the TIS UT1, a co-branded  premium Utility Terrain Vehicle (UTV)\n",
      "\n",
      " and All-Terrain Vehicle (ATV)\n",
      "\n",
      " tire with TIS Wheels.\n",
      " The new tire is  designed for consumers who drive off-road, whether for work or recreation, in a variety of terrains, such as  sand, silt, loose rocks, gravel, dirt, and soil.\n",
      "  With an aggressive all-terrain tread pattern, the tire is built for the today's most popular UTV and ATV  vehicles.\n",
      " A balanced void ratio and biting edges on the tread blocks, add to the traction of the eight-ply  rated tire, while the unique dual shoulder design allows consumers to cost effectively customize the look of  their vehicle, offering two styles in one tire, the company said.\n",
      " The TIS UT1 has a new proprietary dual compound, which enables use on rugged terrain.\n",
      " The compound  strengthens the sidewall to help eliminate punctures and other damage while supporting tire longevity,  Hercules said.\n",
      " TIS Wheels is applying its off-road wheel expertise to the UTV/ATV market with two new wheel styles  available in seven finishes at launch.\n",
      " The 558 is a mesh style wheel available in satin black, anthracite  gray, bronze and gloss black with milled accents.\n",
      " The 559 is an aggressive concave 8-spoke design  available in bronze, anthracite gray and satin black.\n",
      "  WHAT'S NEW IN TIRES  Hercules Tires and wheel maker TIS team up on new UTV/ATV tire  (Hercules Tires – Huntersville, NC)\n",
      "\n",
      "  Pirelli has announced another increase in prices on its tires for cars and light trucks sold in the United  States.\n",
      " Taking effect April 11, 2022, the increases will be up to 10%, varying by line and tire size.\n",
      "  The increases are due to changing market conditions, the company said.\n",
      " Members of the Pirelli sales team will contact customers to provide more detailed information about the  changes.\n",
      "  FINANCE  Pirelli to increase prices for car and light truck tires in the US  (Pirelli - Rome, GA)\n",
      "\n",
      "  Toyo Tires has announced it will participate in the Nürburgring 24 Hours race from May 26-29, 2022, and  Nürburgring Endurance Series on March 26, 2022 in Germany with a Toyota GR Supra GT4 and drivers  from Ring Racing.\n",
      "  This year Toyo Tires has signed a partnership agreement with Ring Racing, a car tuner that has been  building racing cars near the Nürburgring for over 10 years.\n",
      " Toyo developed tires for the team’s Toyota  Supra GT4 car.\n",
      " The Nürburgring 24 Hour event is the centerpiece of Toyo’s racing activities in Europe.\n",
      " The tire maker says  it is one of the most demanding endurance races in the world.\n",
      " Consisting of two courses, the F1 Grand Prix  circuit, and the Nordschleife, the Nürburgring is notorious for its challenges.\n",
      " With over 300m elevation  changes and more than 70 corners in every 25km lap, the Eifel circuit presents unique conditions.\n",
      " Due to  the mountain micro climate, drivers in the 24H race can also expect sudden weather changes to complicate  their race strategy.\n",
      "  In preparation for the Nürburgring 24 Hours, the Ring Racing team will drive in the Nürburgring Endurance  Series.\n",
      " As part of its mid-term business plan, Toyo Tires says it will use its R&D center to differentiate its products  and enhance its branding for the European market.\n",
      "  RELATED MATTERS  Toyo Tires to participate in two Nürburgring events  (Toyo Tires - Hyogo, Japan)\n",
      "\n",
      "    The Smithers Report - March 15, 2022 Page 3 of 3  Continental was awarded the highest grade by the Carbon Disclosure Project (CDP)\n",
      "\n",
      " for the fourth time in a  row, representing the company’s success in implementing measures and strategies to reduce emissions  throughout the supply chain, it said.\n",
      "  The achievement makes Continental among the 8% of companies that have been awarded 2021  leadership status by the international non-profit organization CDP for supplier commitment to climate  change.\n",
      " More than 13,000 companies and organizations worldwide were considered for the rating.\n",
      "  The assessment is based on data provided by the companies on corporate governance and Scope 3  emissions as well as on supply chain management.\n",
      " The CDP pays particular attention to strategies and  measures that help to make environmental risks and emissions measurable along value chains in order to  minimize them.\n",
      "  Continental's approach of working closely with its suppliers to achieve comprehensive improvements by  involving as many stages of the supply chain as possible was recognized by the group.\n",
      "  RELATED MATTERS  Continental among top performers in CPD international sustainability rating  (Continental – Hanover, Germany)\n",
      "\n",
      "  Malaysia’s rubber and rubber products exports reached a record high value of RM71 billion (about $16.\n",
      "9  billion)\n",
      "\n",
      " in 2021, according to the Malaysian Rubber Council (MRC)\n",
      "\n",
      ".\n",
      "  The country’s exports increased by 46.\n",
      "3% from RM48.\n",
      "5 billion in 2020, as the COVID-19 pandemic  accelerated rubber glove usage.\n",
      " In 2021, latex goods contributed 91.\n",
      "8% to the total rubber products  exports with rubber gloves remaining the leader of the pack.\n",
      " The council said that rubber gloves contributed 88.\n",
      "9% to the total rubber products export at RM54.\n",
      "8 billion,  an increase of 55.\n",
      "4% over the same period in 2020 at RM35.\n",
      "3 billion.\n",
      " This is followed by Industrial Rubber Goods (IRG)\n",
      "\n",
      " with an increase of 40.\n",
      "7% amounting to RM1.\n",
      "3 billion  compared to RM900 million in 2020.\n",
      " Export of tires also contributed to the record-setting year, showing an increase of 30.\n",
      "7% at RM1.\n",
      "7 billion,  compared to RM1.\n",
      "3 billion in 2020.\n",
      " Footwear and general rubber goods recorded an increase of 19.\n",
      "6% and  13% respectively.\n",
      " The US, Europe and Japan were the biggest importers of rubber products from Malaysia, together  accounting for about 50%, the MRC said.\n",
      " In 2021, US imports of Malaysian rubber products increased by  76.\n",
      "5% to RM22.\n",
      "8 billion ($5.\n",
      "4 billion)\n",
      "\n",
      ", while imports by Germany grew 57.\n",
      "9% to RM3.\n",
      "79 billion ($900  million)\n",
      "\n",
      ".\n",
      " Japan’s imports of Malaysian rubber goods rose by 40.\n",
      "5% to RM3.\n",
      "2 billion ($760 million)\n",
      "\n",
      ", imports  by the Netherlands were up 57% at RM1.\n",
      "76 billion ($410 million)\n",
      "\n",
      " and Italy’s imports of Malaysian rubber  goods rose 42.\n",
      "2% to RM1.\n",
      "2 billion ($280 million)\n",
      "\n",
      " as compared to 2020.\n",
      "  Malaysia’s rubber exports reach new highs in 2021, rubber council reports  (Malaysian Rubber Council - Kuala Lumpur, Malaysia)\n",
      "\n",
      "  The Smithers Report   \n"
     ]
    },
    {
     "ename": "KeyError",
     "evalue": "'message'",
     "output_type": "error",
     "traceback": [
      "\u001b[1;31m---------------------------------------------------------------------------\u001b[0m",
      "\u001b[1;31mKeyError\u001b[0m                                  Traceback (most recent call last)",
      "\u001b[1;32md:\\dev\\git\\readpdf\\readpdf.ipynb Cell 13'\u001b[0m in \u001b[0;36m<cell line: 32>\u001b[1;34m()\u001b[0m\n\u001b[0;32m     <a href='vscode-notebook-cell:/d%3A/dev/git/readpdf/readpdf.ipynb#ch0000013?line=27'>28</a>\u001b[0m result \u001b[39m=\u001b[39m response\u001b[39m.\u001b[39mjson()\n\u001b[0;32m     <a href='vscode-notebook-cell:/d%3A/dev/git/readpdf/readpdf.ipynb#ch0000013?line=29'>30</a>\u001b[0m \u001b[39mprint\u001b[39m(\u001b[39m\"\u001b[39m\u001b[39m원문 : \u001b[39m\u001b[39m\"\u001b[39m, txt)\n\u001b[1;32m---> <a href='vscode-notebook-cell:/d%3A/dev/git/readpdf/readpdf.ipynb#ch0000013?line=31'>32</a>\u001b[0m \u001b[39mprint\u001b[39m(\u001b[39m\"\u001b[39m\u001b[39m번역결과 : \u001b[39m\u001b[39m\"\u001b[39m, result[\u001b[39m\"\u001b[39;49m\u001b[39mmessage\u001b[39;49m\u001b[39m\"\u001b[39;49m][\u001b[39m\"\u001b[39m\u001b[39mresult\u001b[39m\u001b[39m\"\u001b[39m][\u001b[39m\"\u001b[39m\u001b[39mtranslatedText\u001b[39m\u001b[39m\"\u001b[39m])\n",
      "\u001b[1;31mKeyError\u001b[0m: 'message'"
     ]
    }
   ],
   "source": [
    "# print(parsed['content'])\n",
    "txt_content = parsed['content'][385:] # 빈공백 지워주기\n",
    "txt_content_rep_regex = txt_content.replace('\\n', ' ')\n",
    "\n",
    "txt = \"\"\n",
    "final_sent = re.compile(\"[a-z]*\\.\")\n",
    "final_para = re.compile(\"\\(*\\-*\\,*\\)\")\n",
    "\n",
    "for i in range(len(txt_content_rep_regex)):\n",
    "    txt = txt + txt_content_rep_regex[i]\n",
    "    m = final_sent.findall(txt_content_rep_regex[i])\n",
    "    n = final_para.findall(txt_content_rep_regex[i])\n",
    "    if m:\n",
    "        txt = txt + \"\\n\"\n",
    "    elif n:\n",
    "        txt = txt + \"\\n\\n\"\n",
    "\n",
    "\n",
    "request_url = \"https://openapi.naver.com/v1/papago/n2mt\"\n",
    "\n",
    "headers ={\"X-Naver-Client-Id\": \"bKDF0OQ3yFRyAr3A5WRH\",\\\n",
    "    \"X-Naver-Client-Secret\": \"Vb20egnSMZ\"}\n",
    "\n",
    "# ClientID, ClientSecret 발급받아야함.\n",
    "\n",
    "params = {\"source\": \"en\", \"target\": \"ko\", \"text\": txt}\n",
    "response =requests.post(request_url, headers=headers, data=params)\n",
    "result = response.json()\n",
    "\n",
    "print(\"원문 : \", txt)\n",
    "\n",
    "print(\"번역결과 : \", result[\"message\"][\"result\"][\"translatedText\"])\n",
    "\n",
    "\n",
    "\n",
    "# ext_text = \"\"\n",
    "# temp = \"\"\n",
    "# for i in txt_content :\n",
    "#     temp = i.get_text()\n",
    "#     temp = temp.replace(\"\\n\", \" \")\n",
    "#     ext_text = ext_text + temp\n",
    "#     temp = \"\"\n",
    "\n",
    "# ext_text"
   ]
  },
  {
   "cell_type": "code",
   "execution_count": null,
   "metadata": {},
   "outputs": [],
   "source": []
  }
 ],
 "metadata": {
  "interpreter": {
   "hash": "7f61bbf393fb77bc15d7d65ec76bc1290bb14284644af92bef26890bb2a58427"
  },
  "kernelspec": {
   "display_name": "Python 3.8.10 ('.venv': venv)",
   "language": "python",
   "name": "python3"
  },
  "language_info": {
   "codemirror_mode": {
    "name": "ipython",
    "version": 3
   },
   "file_extension": ".py",
   "mimetype": "text/x-python",
   "name": "python",
   "nbconvert_exporter": "python",
   "pygments_lexer": "ipython3",
   "version": "3.8.10"
  },
  "orig_nbformat": 4
 },
 "nbformat": 4,
 "nbformat_minor": 2
}
