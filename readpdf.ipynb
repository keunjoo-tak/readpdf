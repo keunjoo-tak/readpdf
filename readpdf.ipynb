{
 "cells": [
  {
   "cell_type": "code",
   "execution_count": 2,
   "metadata": {},
   "outputs": [],
   "source": [
    "import fitz, re, os\n",
    "\n",
    "import requests"
   ]
  },
  {
   "cell_type": "markdown",
   "metadata": {},
   "source": [
    "#### PymuPDF(fitz)"
   ]
  },
  {
   "cell_type": "code",
   "execution_count": 30,
   "metadata": {},
   "outputs": [
    {
     "data": {
      "text/plain": [
       "['The Smithers Report Mar 10 2022.pdf',\n",
       " 'The Smithers Report Mar 14 2022.pdf',\n",
       " 'The Smithers Report Mar 15 2022.pdf',\n",
       " 'The Smithers Report Mar 16 2022.pdf',\n",
       " 'The Smithers Report Oct 21 2021.pdf']"
      ]
     },
     "execution_count": 30,
     "metadata": {},
     "output_type": "execute_result"
    }
   ],
   "source": [
    "path = \"./file\"\n",
    "pdf_list = os.listdir(path)\n",
    "pdf_list"
   ]
  },
  {
   "cell_type": "code",
   "execution_count": 31,
   "metadata": {},
   "outputs": [],
   "source": [
    "document = fitz.open('./file/The Smithers Report Mar 16 2022.pdf')"
   ]
  },
  {
   "cell_type": "code",
   "execution_count": 34,
   "metadata": {},
   "outputs": [
    {
     "name": "stdout",
     "output_type": "stream",
     "text": [
      "총 문자길이(갯수) :  9930\n"
     ]
    }
   ],
   "source": [
    "# 문자열 ext_text에 모든문자 저장\n",
    "ext_text = \"\"\n",
    "temp = \"\"\n",
    "\n",
    "for i in document :\n",
    "    temp = i.get_text()\n",
    "    temp = temp.replace(\"\\n\", \" \")\n",
    "    ext_text = ext_text + temp\n",
    "    temp = \"\"\n",
    "print('총 문자길이(갯수) : ', len(ext_text))"
   ]
  },
  {
   "cell_type": "code",
   "execution_count": 35,
   "metadata": {},
   "outputs": [],
   "source": [
    "# 문장 마지막단어 찾아 줄바꿈 개행문자 \"\\n\" 삽입\n",
    "txt = \"\"\n",
    "final_sent = re.compile(\"[a-z]*\\.\")\n",
    "\n",
    "for i in range(len(ext_text)):\n",
    "    txt = txt + ext_text[i]\n",
    "    m = final_sent.findall(ext_text[i])\n",
    "    if m:\n",
    "        txt = txt + \"\\n\""
   ]
  },
  {
   "cell_type": "code",
   "execution_count": 36,
   "metadata": {},
   "outputs": [],
   "source": [
    "# pdf to binary text 저장\n",
    "file = open('./output/ext_text.txt', 'wb')\n",
    "file.write(txt.encode('UTF-8'))\n",
    "file.close()"
   ]
  },
  {
   "cell_type": "code",
   "execution_count": 37,
   "metadata": {},
   "outputs": [
    {
     "name": "stdout",
     "output_type": "stream",
     "text": [
      "문장 길이 :  74\n"
     ]
    }
   ],
   "source": [
    "# 저장된 Text 파일 읽기\n",
    "\n",
    "file = open('./output/ext_text.txt', 'rb')\n",
    "text = file.readlines()\n",
    "file.close()\n",
    "\n",
    "print(\"문장 길이 : \", len(text))"
   ]
  },
  {
   "cell_type": "markdown",
   "metadata": {},
   "source": [
    "#### Use papago translator"
   ]
  },
  {
   "cell_type": "code",
   "execution_count": 62,
   "metadata": {},
   "outputs": [
    {
     "name": "stdout",
     "output_type": "stream",
     "text": [
      "원문 :  This work is an application of a widely-used machine learning technique, known as bag-of-keypoints (or words), often applied to computer vision problems.\n"
     ]
    },
    {
     "ename": "KeyError",
     "evalue": "'message'",
     "output_type": "error",
     "traceback": [
      "\u001b[1;31m---------------------------------------------------------------------------\u001b[0m",
      "\u001b[1;31mKeyError\u001b[0m                                  Traceback (most recent call last)",
      "\u001b[1;32md:\\dev\\git\\readpdf\\readpdf.ipynb Cell 10'\u001b[0m in \u001b[0;36m<cell line: 18>\u001b[1;34m()\u001b[0m\n\u001b[0;32m     <a href='vscode-notebook-cell:/d%3A/dev/git/readpdf/readpdf.ipynb#ch0000009?line=13'>14</a>\u001b[0m result \u001b[39m=\u001b[39m response\u001b[39m.\u001b[39mjson()\n\u001b[0;32m     <a href='vscode-notebook-cell:/d%3A/dev/git/readpdf/readpdf.ipynb#ch0000009?line=15'>16</a>\u001b[0m \u001b[39mprint\u001b[39m(\u001b[39m\"\u001b[39m\u001b[39m원문 : \u001b[39m\u001b[39m\"\u001b[39m, txt)\n\u001b[1;32m---> <a href='vscode-notebook-cell:/d%3A/dev/git/readpdf/readpdf.ipynb#ch0000009?line=17'>18</a>\u001b[0m \u001b[39mprint\u001b[39m(\u001b[39m\"\u001b[39m\u001b[39m번역결과 : \u001b[39m\u001b[39m\"\u001b[39m, result[\u001b[39m\"\u001b[39;49m\u001b[39mmessage\u001b[39;49m\u001b[39m\"\u001b[39;49m][\u001b[39m\"\u001b[39m\u001b[39mresult\u001b[39m\u001b[39m\"\u001b[39m][\u001b[39m\"\u001b[39m\u001b[39mtranslatedText\u001b[39m\u001b[39m\"\u001b[39m])\n",
      "\u001b[1;31mKeyError\u001b[0m: 'message'"
     ]
    }
   ],
   "source": [
    "txt = 'This work is an application of a widely-used machine '\\\n",
    "    'learning technique, known as bag-of-keypoints (or words), '\\\n",
    "    'often applied to computer vision problems.'\n",
    "\n",
    "request_url = \"https://openapi.naver.com/v1/papago/n2mt\"\n",
    "\n",
    "headers ={\"X-Naver-Client-Id\": \"bKDF0OQ3yFRyAr3A5WRH\",\\\n",
    "    \"X-Naver-Client-Secret\": \"Vb20egnSMZ\"}\n",
    "\n",
    "# ClientID, ClientSecret 발급받아야함.\n",
    "\n",
    "params = {\"source\": \"en\", \"target\": \"ko\", \"text\": txt}\n",
    "response =requests.post(request_url, headers=headers, data=params)\n",
    "result = response.json()\n",
    "\n",
    "print(\"원문 : \", txt)\n",
    "\n",
    "print(\"번역결과 : \", result[\"message\"][\"result\"][\"translatedText\"])"
   ]
  },
  {
   "cell_type": "markdown",
   "metadata": {},
   "source": [
    "#### user tika"
   ]
  },
  {
   "cell_type": "code",
   "execution_count": 119,
   "metadata": {},
   "outputs": [],
   "source": [
    "from tika import parser\n",
    "pdf_path = \"./file/The Smithers Report Mar 10 2022.pdf\"\n",
    "parsed = parser.from_file(pdf_path)\n",
    "\n",
    "txt = open('output.txt', 'w', encoding='utf-8')\n",
    "\n",
    "print(parsed['content'][42:], file = txt)\n",
    "txt.close()"
   ]
  },
  {
   "cell_type": "code",
   "execution_count": 120,
   "metadata": {},
   "outputs": [
    {
     "name": "stdout",
     "output_type": "stream",
     "text": [
      " Nokian Tyres, which manufactures tires in Finland, the US and Russia, said this week that it is following the  situation in Ukraine with great sadness, hoping for a quick diplomatic solution. The tire maker reports its  crisis management team meets daily and is preparing for different scenarios to manage its business in the  affected areas. It is also monitoring the development of sanctions and potential counter-sanctions.  “We have activated our contingency plans to mitigate the financial and operational impacts to our business.  For example, we are shipping tires closer to our customers, securing the raw material supply to our  factories, transferring production of selected key product lines from Russia to Finland and to the US, and  securing transport capacity from Russia with existing and new service providers. We continue to increase  production in Finland and in the US. All Nokian Tyres’ heavy tires are designed and manufactured in  Finland. Tires for trucks and buses are designed in Finland and produced in the EU,” the company said. Nokian’s Russian operations are being impacted by transportation capacity availability, and lead-times have  increased. Operations could be further impacted by raw material supply, it noted. As of March 8th, it has  been able fulfill the customer orders despite supply chain challenges. Compliance with current sanctions requires that some of the company’s customers and suppliers in Russia  change their bank. In cross-border transactions, there are delays and volume is small, as the currency  trading is not working normally, Nokian said.  The Finland-based tire maker has been operating in Ukraine since 2006, and reports it has relationships  with Ukrainian colleagues and customers.  WHAT'S NEW IN TIRES  Nokian Tyres shares business update related to crisis in Ukraine  (Nokian Tyres – Nokia, Finland)\n",
      "\n",
      "Michelin has been chosen by Italian luxury sports car maker Ferrari as an official tire supplier for its new  296 GTB. The French tire maker will supply two tires for the car, the Pilot Sport 4S K1 for predominantly  road driving and the road legal Pilot Sport Cup 2R K2 for track use. The “made-to-measure” tires for the Ferrari 296 GTB tires were jointly designed with Ferrari and are  identified by the automaker's ‘K’ symbol on their sidewalls.  The two tires use a hybrid belt composed of aramid and nylon that results in optimal transmission of the  driver's inputs. They also contain multi compounds and other technologies. Sizes produced for the 296 GTB are 245/35ZR20 (95Y) XL TL Pilot Sport 4 S K1 for the front and  305/35ZR20 (107Y) XL TL Pilot Sport 4 S K1 for the rear or 245/35 ZR20 (95Y) XL TL Pilot Sport Cup 2 R  K2 for the front and 305/35 ZR20 (107Y) XL TL Pilot Sport Cup 2 R K2 for the rear.  Michelin develops two custom tires for Ferrari’s new 296 GTB  (Michelin – Clermont-Ferrand, France)\n",
      "\n",
      "    Continental yesterday reported consolidated sales of €33.8 billion or $37.1 billion (2020: €31.9 billion, +6.0  percent) for 2021. The company’s adjusted EBIT for the year was €1.9 billion or about $2.1 billion (2020:  €1.4 billion, +37.7%) with an adjusted EBIT margin of 5.6% (2020: 4.4%). Its operating result reached €1.8  billion (2020: -€428 million) and net income reached €1.5 billion (2020: -€962 million, +€2.4 billion). The  company proposed a dividend of €2.20 per share related to its annual results.  Continental said the year was characterized by “a persistently turbulent market environment.” The  coronavirus pandemic, low automotive production due to electronic component shortages as well as  significant cost increases in the areas of procurement and logistics had a significant impact on its sales and  earnings. Expectations for Continental’s fiscal 2022 include consolidated sales of around €38 billion to €40 billion;  adjusted EBIT margin of around 5.5% to 6.5% – not including effects of the potential impact of the current  geopolitical crisis. Continental noted in the event that the geopolitical situation, in particular in Eastern Europe, remains tense  or even worsens, it can result in lasting consequences for production, supply chains and demand.  Depending on the severity of the disruption, this may result in lower sales and earnings in all group sectors  as well as for the Continental Group compared to the prior year.  Not including these risks, the automotive technology and tire maker expects global production of passenger  cars and light commercial vehicles to increase by 6% to 9% in 2022. (In 2021, this increased year on year  by only around 3% to approximately 77 million vehicles as a result of the semiconductor shortage.) The  company also anticipates higher procurement and logistics costs of around €2.3 billion. Continental expects 2022 consolidated sales of around €38 billion to €40 billion and an adjusted EBIT  margin of around 5.5% to 6.5% for 2022 with business gradually improving following a subdued start to the  year. For its tires group, Continental expects sales of between around €13.3 billion and €13.8 billion with an  adjusted EBIT margin ranging between 13.5% and 14.5%.  FINANCE  Despite climbing costs, Continental generates profit in 2021  (Continental - Hanover, Germany)\n",
      "\n",
      "Nynas, a Swedish manufacturer of specialty naphthenic oils and bitumen products including tire and rubber  oils, has halted purchase of feedstock from Russia as well as sales to customers in Russia and Belarus. The Russian invasion of Ukraine has prompted Nynas to make the changes that went into effect last week  and remain in effect until further notice.  Nynas says it has alternatives to Russian feedstocks, and will increase that part of its raw material supply.  At the same time, the company will also evaluate new suppliers.  Nynas halts feedstock purchases from Russia  (Nynas - Stockholm, Sweden)\n",
      "\n",
      "Kraton Corporation, a producer of styrenic block copolymers, specialty polymers and high-value  performance products derived from pine wood pulping co-products, has announced a price increase of  $440/MT for all Kraton HSBC polymers. The price increase is driven by recent significant cost increases in  raw materials, energy and logistics costs. Given the unprecedented increases for natural gas costs in Europe, additional energy surcharges will be  applied to HSBC polymers produced at the company’s plant in Berre, France. Subject to the terms of any applicable contracts, the price increases and surcharges will take effect April 1,  2022. Kraton’s pine-based specialty products are sold into adhesive, road and construction and tire markets. It  also produces and sells a broad range of performance chemicals into markets that include fuel additives,  oilfield chemicals, coatings, metalworking fluids and lubricants, inks and mining.  Kraton announces price increase for HSBC polymers  (Kraton Corp. - Houston, TX)\n",
      "\n",
      "    Tire management technology provider Aperia Technologies launched Halo Connect 2.0, an update of its  tire management platform, at the TMC Annual Meeting for the trucking industry held in Orlando, Florida this  week. Halo Connect allows fleets to reduce unplanned tire-related downtime, reduce tire costs per mile by pairing  machine learning with active inflation, its maker said. Powered by more than 50 billion miles of real-world  fleet tire data, Halo Connect’s tire analytics engine uses machine learning to characterize the many  variables that affect and inform tire-related maintenance and strategic decisions. The system enables fleets  to use a proactive service model that optimizes uptime and tire maintenance cost, Aperia said. Halo Connect works with all wheel positions and in tandem with Halo Tire Inflator, an easy-to-install  automatic tire inflation system for trucks and trailers. The platform is compatible with all vehicle makes and  models, and is available through major OEMs, a network of partners, and directly from Aperia. Halo  Connect 2.0 can be purchased as an asset or as a subscription service.  RELATED MATTERS  Halo Connect 2.0 tire management system now available from Aperia Technologies  (Aperia Technologies – Burlingame, CA)\n",
      "\n",
      "Volvo Cars has begun testing a new wireless charging technology in a live city environment together with  selected partners. The trial will help the company evaluate the use of wireless charging for its future electric  cars. Over a three-year period, a small fleet of fully electric Volvo XC40 Recharge cars will be used as taxis by  Cabonline, a taxi operator in the Nordic region, and charged wirelessly at stations in Gothenburg, Sweden.  The wireless charging test is part of the strategic initiative Gothenburg Green City Zone, under which  designated areas of the city are used as live testbeds for the development of sustainable technologies. The charging station sends energy through the charging pad, which is picked up by a receiver unit in the  car. To easily align the car with the charging pad, Volvo Cars will use its 360-degree camera system. For  the fully electric XC40 Recharge cars, the wireless charging power will be more than 40 kW, making the  charging speeds around four times faster than a wired 11 kW AC charger and almost as fast as a wired 50  kW DC fast charger. The Volvo cars will be used for more than 12 hours a day and drive 100,000 km per year, which will test the  durability of the EVs in a commercial usage scenario, the company said.  Other partners involved in the wireless charging project include Swedish energy company Vattenfall and its  charging network InCharge, the city energy company Göteborg Energi, and Business Region Gothenburg,  a municipal economic development agency owned by the city of Gothenburg.  VEHICLE INDUSTRY NEWS  Volvo begins testing of wireless EV charging  (Volvo Cars – Gothenburg, Sweden)\n",
      "\n",
      "The Smithers Report   \n"
     ]
    }
   ],
   "source": [
    "# print(parsed['content'])\n",
    "txt_content = parsed['content'][385:] # 빈공백 지워주기\n",
    "txt_content_rep_regex = txt_content.replace('\\n', ' ')\n",
    "txt_content_rep_regex = txt_content_rep_regex.replace(')  ', ')\\n\\n')\n",
    "txt_content_rep_regex = re.sub(\"The Smithers Report - \\w+ \\w{2}, \\w{4} Page \\w+ of \\w+\", \"\", txt_content_rep_regex)\n",
    "\n",
    "txt = \"\"\n",
    "final_sent = re.compile(\"[a-z]*\\. \")\n",
    "# final_para = re.compile(\"\\)\\s\")\n",
    "\n",
    "for i in range(len(txt_content_rep_regex)):\n",
    "    txt = txt + txt_content_rep_regex[i]\n",
    "    m = final_sent.findall(txt_content_rep_regex[i])\n",
    "    # n = final_para.findall(txt_content_rep_regex[i])\n",
    "    if m:\n",
    "        txt = txt + \"\\n\"\n",
    "    # elif n:\n",
    "    #     txt = txt + \"\\n\\n\"\n",
    "\n",
    "print(txt)\n",
    "\n",
    "# request_url = \"https://openapi.naver.com/v1/papago/n2mt\"\n",
    "\n",
    "# headers ={\"X-Naver-Client-Id\": \"bKDF0OQ3yFRyAr3A5WRH\",\\\n",
    "#     \"X-Naver-Client-Secret\": \"Vb20egnSMZ\"}\n",
    "\n",
    "# # ClientID, ClientSecret 발급받아야함.\n",
    "\n",
    "# params = {\"source\": \"en\", \"target\": \"ko\", \"text\": txt}\n",
    "# response =requests.post(request_url, headers=headers, data=params)\n",
    "# result = response.json()\n",
    "\n",
    "\n",
    "\n",
    "# print(\"원문 : \", txt)\n",
    "\n",
    "# print(\"번역결과 : \", result[\"message\"][\"result\"][\"translatedText\"])\n"
   ]
  },
  {
   "cell_type": "code",
   "execution_count": 121,
   "metadata": {},
   "outputs": [
    {
     "ename": "error",
     "evalue": "multiple repeat at position 6",
     "output_type": "error",
     "traceback": [
      "\u001b[1;31m---------------------------------------------------------------------------\u001b[0m",
      "\u001b[1;31merror\u001b[0m                                     Traceback (most recent call last)",
      "\u001b[1;32md:\\dev\\git\\readpdf\\readpdf.ipynb Cell 14'\u001b[0m in \u001b[0;36m<cell line: 6>\u001b[1;34m()\u001b[0m\n\u001b[0;32m      <a href='vscode-notebook-cell:/d%3A/dev/git/readpdf/readpdf.ipynb#ch0000012?line=3'>4</a>\u001b[0m txt \u001b[39m=\u001b[39m \u001b[39m\"\u001b[39m\u001b[39m\"\u001b[39m\n\u001b[0;32m      <a href='vscode-notebook-cell:/d%3A/dev/git/readpdf/readpdf.ipynb#ch0000012?line=4'>5</a>\u001b[0m final_sent \u001b[39m=\u001b[39m re\u001b[39m.\u001b[39mcompile(\u001b[39m\"\u001b[39m\u001b[39m[a-z]*\u001b[39m\u001b[39m\\\u001b[39m\u001b[39m. \u001b[39m\u001b[39m\"\u001b[39m)\n\u001b[1;32m----> <a href='vscode-notebook-cell:/d%3A/dev/git/readpdf/readpdf.ipynb#ch0000012?line=5'>6</a>\u001b[0m final_para \u001b[39m=\u001b[39m re\u001b[39m.\u001b[39;49mcompile(\u001b[39m\"\u001b[39;49m\u001b[39m\\\u001b[39;49m\u001b[39m(*\u001b[39;49m\u001b[39m\\\u001b[39;49m\u001b[39m-+*\u001b[39;49m\u001b[39m\\\u001b[39;49m\u001b[39m,+*\u001b[39;49m\u001b[39m\\\u001b[39;49m\u001b[39m)\u001b[39;49m\u001b[39m\"\u001b[39;49m)\n\u001b[0;32m      <a href='vscode-notebook-cell:/d%3A/dev/git/readpdf/readpdf.ipynb#ch0000012?line=7'>8</a>\u001b[0m \u001b[39mfor\u001b[39;00m i \u001b[39min\u001b[39;00m \u001b[39mrange\u001b[39m(\u001b[39mlen\u001b[39m(temp_txt)):\n\u001b[0;32m      <a href='vscode-notebook-cell:/d%3A/dev/git/readpdf/readpdf.ipynb#ch0000012?line=8'>9</a>\u001b[0m     txt \u001b[39m=\u001b[39m txt \u001b[39m+\u001b[39m temp_txt[i]\n",
      "File \u001b[1;32m~\\AppData\\Local\\Programs\\Python\\Python38\\lib\\re.py:252\u001b[0m, in \u001b[0;36mcompile\u001b[1;34m(pattern, flags)\u001b[0m\n\u001b[0;32m    <a href='file:///c%3A/Users/hanta/AppData/Local/Programs/Python/Python38/lib/re.py?line=249'>250</a>\u001b[0m \u001b[39mdef\u001b[39;00m \u001b[39mcompile\u001b[39m(pattern, flags\u001b[39m=\u001b[39m\u001b[39m0\u001b[39m):\n\u001b[0;32m    <a href='file:///c%3A/Users/hanta/AppData/Local/Programs/Python/Python38/lib/re.py?line=250'>251</a>\u001b[0m     \u001b[39m\"\u001b[39m\u001b[39mCompile a regular expression pattern, returning a Pattern object.\u001b[39m\u001b[39m\"\u001b[39m\n\u001b[1;32m--> <a href='file:///c%3A/Users/hanta/AppData/Local/Programs/Python/Python38/lib/re.py?line=251'>252</a>\u001b[0m     \u001b[39mreturn\u001b[39;00m _compile(pattern, flags)\n",
      "File \u001b[1;32m~\\AppData\\Local\\Programs\\Python\\Python38\\lib\\re.py:304\u001b[0m, in \u001b[0;36m_compile\u001b[1;34m(pattern, flags)\u001b[0m\n\u001b[0;32m    <a href='file:///c%3A/Users/hanta/AppData/Local/Programs/Python/Python38/lib/re.py?line=301'>302</a>\u001b[0m \u001b[39mif\u001b[39;00m \u001b[39mnot\u001b[39;00m sre_compile\u001b[39m.\u001b[39misstring(pattern):\n\u001b[0;32m    <a href='file:///c%3A/Users/hanta/AppData/Local/Programs/Python/Python38/lib/re.py?line=302'>303</a>\u001b[0m     \u001b[39mraise\u001b[39;00m \u001b[39mTypeError\u001b[39;00m(\u001b[39m\"\u001b[39m\u001b[39mfirst argument must be string or compiled pattern\u001b[39m\u001b[39m\"\u001b[39m)\n\u001b[1;32m--> <a href='file:///c%3A/Users/hanta/AppData/Local/Programs/Python/Python38/lib/re.py?line=303'>304</a>\u001b[0m p \u001b[39m=\u001b[39m sre_compile\u001b[39m.\u001b[39;49mcompile(pattern, flags)\n\u001b[0;32m    <a href='file:///c%3A/Users/hanta/AppData/Local/Programs/Python/Python38/lib/re.py?line=304'>305</a>\u001b[0m \u001b[39mif\u001b[39;00m \u001b[39mnot\u001b[39;00m (flags \u001b[39m&\u001b[39m DEBUG):\n\u001b[0;32m    <a href='file:///c%3A/Users/hanta/AppData/Local/Programs/Python/Python38/lib/re.py?line=305'>306</a>\u001b[0m     \u001b[39mif\u001b[39;00m \u001b[39mlen\u001b[39m(_cache) \u001b[39m>\u001b[39m\u001b[39m=\u001b[39m _MAXCACHE:\n\u001b[0;32m    <a href='file:///c%3A/Users/hanta/AppData/Local/Programs/Python/Python38/lib/re.py?line=306'>307</a>\u001b[0m         \u001b[39m# Drop the oldest item\u001b[39;00m\n",
      "File \u001b[1;32m~\\AppData\\Local\\Programs\\Python\\Python38\\lib\\sre_compile.py:764\u001b[0m, in \u001b[0;36mcompile\u001b[1;34m(p, flags)\u001b[0m\n\u001b[0;32m    <a href='file:///c%3A/Users/hanta/AppData/Local/Programs/Python/Python38/lib/sre_compile.py?line=761'>762</a>\u001b[0m \u001b[39mif\u001b[39;00m isstring(p):\n\u001b[0;32m    <a href='file:///c%3A/Users/hanta/AppData/Local/Programs/Python/Python38/lib/sre_compile.py?line=762'>763</a>\u001b[0m     pattern \u001b[39m=\u001b[39m p\n\u001b[1;32m--> <a href='file:///c%3A/Users/hanta/AppData/Local/Programs/Python/Python38/lib/sre_compile.py?line=763'>764</a>\u001b[0m     p \u001b[39m=\u001b[39m sre_parse\u001b[39m.\u001b[39;49mparse(p, flags)\n\u001b[0;32m    <a href='file:///c%3A/Users/hanta/AppData/Local/Programs/Python/Python38/lib/sre_compile.py?line=764'>765</a>\u001b[0m \u001b[39melse\u001b[39;00m:\n\u001b[0;32m    <a href='file:///c%3A/Users/hanta/AppData/Local/Programs/Python/Python38/lib/sre_compile.py?line=765'>766</a>\u001b[0m     pattern \u001b[39m=\u001b[39m \u001b[39mNone\u001b[39;00m\n",
      "File \u001b[1;32m~\\AppData\\Local\\Programs\\Python\\Python38\\lib\\sre_parse.py:948\u001b[0m, in \u001b[0;36mparse\u001b[1;34m(str, flags, state)\u001b[0m\n\u001b[0;32m    <a href='file:///c%3A/Users/hanta/AppData/Local/Programs/Python/Python38/lib/sre_parse.py?line=944'>945</a>\u001b[0m state\u001b[39m.\u001b[39mstr \u001b[39m=\u001b[39m \u001b[39mstr\u001b[39m\n\u001b[0;32m    <a href='file:///c%3A/Users/hanta/AppData/Local/Programs/Python/Python38/lib/sre_parse.py?line=946'>947</a>\u001b[0m \u001b[39mtry\u001b[39;00m:\n\u001b[1;32m--> <a href='file:///c%3A/Users/hanta/AppData/Local/Programs/Python/Python38/lib/sre_parse.py?line=947'>948</a>\u001b[0m     p \u001b[39m=\u001b[39m _parse_sub(source, state, flags \u001b[39m&\u001b[39;49m SRE_FLAG_VERBOSE, \u001b[39m0\u001b[39;49m)\n\u001b[0;32m    <a href='file:///c%3A/Users/hanta/AppData/Local/Programs/Python/Python38/lib/sre_parse.py?line=948'>949</a>\u001b[0m \u001b[39mexcept\u001b[39;00m Verbose:\n\u001b[0;32m    <a href='file:///c%3A/Users/hanta/AppData/Local/Programs/Python/Python38/lib/sre_parse.py?line=949'>950</a>\u001b[0m     \u001b[39m# the VERBOSE flag was switched on inside the pattern.  to be\u001b[39;00m\n\u001b[0;32m    <a href='file:///c%3A/Users/hanta/AppData/Local/Programs/Python/Python38/lib/sre_parse.py?line=950'>951</a>\u001b[0m     \u001b[39m# on the safe side, we'll parse the whole thing again...\u001b[39;00m\n\u001b[0;32m    <a href='file:///c%3A/Users/hanta/AppData/Local/Programs/Python/Python38/lib/sre_parse.py?line=951'>952</a>\u001b[0m     state \u001b[39m=\u001b[39m State()\n",
      "File \u001b[1;32m~\\AppData\\Local\\Programs\\Python\\Python38\\lib\\sre_parse.py:443\u001b[0m, in \u001b[0;36m_parse_sub\u001b[1;34m(source, state, verbose, nested)\u001b[0m\n\u001b[0;32m    <a href='file:///c%3A/Users/hanta/AppData/Local/Programs/Python/Python38/lib/sre_parse.py?line=440'>441</a>\u001b[0m start \u001b[39m=\u001b[39m source\u001b[39m.\u001b[39mtell()\n\u001b[0;32m    <a href='file:///c%3A/Users/hanta/AppData/Local/Programs/Python/Python38/lib/sre_parse.py?line=441'>442</a>\u001b[0m \u001b[39mwhile\u001b[39;00m \u001b[39mTrue\u001b[39;00m:\n\u001b[1;32m--> <a href='file:///c%3A/Users/hanta/AppData/Local/Programs/Python/Python38/lib/sre_parse.py?line=442'>443</a>\u001b[0m     itemsappend(_parse(source, state, verbose, nested \u001b[39m+\u001b[39;49m \u001b[39m1\u001b[39;49m,\n\u001b[0;32m    <a href='file:///c%3A/Users/hanta/AppData/Local/Programs/Python/Python38/lib/sre_parse.py?line=443'>444</a>\u001b[0m                        \u001b[39mnot\u001b[39;49;00m nested \u001b[39mand\u001b[39;49;00m \u001b[39mnot\u001b[39;49;00m items))\n\u001b[0;32m    <a href='file:///c%3A/Users/hanta/AppData/Local/Programs/Python/Python38/lib/sre_parse.py?line=444'>445</a>\u001b[0m     \u001b[39mif\u001b[39;00m \u001b[39mnot\u001b[39;00m sourcematch(\u001b[39m\"\u001b[39m\u001b[39m|\u001b[39m\u001b[39m\"\u001b[39m):\n\u001b[0;32m    <a href='file:///c%3A/Users/hanta/AppData/Local/Programs/Python/Python38/lib/sre_parse.py?line=445'>446</a>\u001b[0m         \u001b[39mbreak\u001b[39;00m\n",
      "File \u001b[1;32m~\\AppData\\Local\\Programs\\Python\\Python38\\lib\\sre_parse.py:671\u001b[0m, in \u001b[0;36m_parse\u001b[1;34m(source, state, verbose, nested, first)\u001b[0m\n\u001b[0;32m    <a href='file:///c%3A/Users/hanta/AppData/Local/Programs/Python/Python38/lib/sre_parse.py?line=667'>668</a>\u001b[0m     \u001b[39mraise\u001b[39;00m source\u001b[39m.\u001b[39merror(\u001b[39m\"\u001b[39m\u001b[39mnothing to repeat\u001b[39m\u001b[39m\"\u001b[39m,\n\u001b[0;32m    <a href='file:///c%3A/Users/hanta/AppData/Local/Programs/Python/Python38/lib/sre_parse.py?line=668'>669</a>\u001b[0m                        source\u001b[39m.\u001b[39mtell() \u001b[39m-\u001b[39m here \u001b[39m+\u001b[39m \u001b[39mlen\u001b[39m(this))\n\u001b[0;32m    <a href='file:///c%3A/Users/hanta/AppData/Local/Programs/Python/Python38/lib/sre_parse.py?line=669'>670</a>\u001b[0m \u001b[39mif\u001b[39;00m item[\u001b[39m0\u001b[39m][\u001b[39m0\u001b[39m] \u001b[39min\u001b[39;00m _REPEATCODES:\n\u001b[1;32m--> <a href='file:///c%3A/Users/hanta/AppData/Local/Programs/Python/Python38/lib/sre_parse.py?line=670'>671</a>\u001b[0m     \u001b[39mraise\u001b[39;00m source\u001b[39m.\u001b[39merror(\u001b[39m\"\u001b[39m\u001b[39mmultiple repeat\u001b[39m\u001b[39m\"\u001b[39m,\n\u001b[0;32m    <a href='file:///c%3A/Users/hanta/AppData/Local/Programs/Python/Python38/lib/sre_parse.py?line=671'>672</a>\u001b[0m                        source\u001b[39m.\u001b[39mtell() \u001b[39m-\u001b[39m here \u001b[39m+\u001b[39m \u001b[39mlen\u001b[39m(this))\n\u001b[0;32m    <a href='file:///c%3A/Users/hanta/AppData/Local/Programs/Python/Python38/lib/sre_parse.py?line=672'>673</a>\u001b[0m \u001b[39mif\u001b[39;00m item[\u001b[39m0\u001b[39m][\u001b[39m0\u001b[39m] \u001b[39mis\u001b[39;00m SUBPATTERN:\n\u001b[0;32m    <a href='file:///c%3A/Users/hanta/AppData/Local/Programs/Python/Python38/lib/sre_parse.py?line=673'>674</a>\u001b[0m     group, add_flags, del_flags, p \u001b[39m=\u001b[39m item[\u001b[39m0\u001b[39m][\u001b[39m1\u001b[39m]\n",
      "\u001b[1;31merror\u001b[0m: multiple repeat at position 6"
     ]
    }
   ],
   "source": [
    "temp_txt = \"Continental has signed a development agreement with Pyrum Innovations, a Germany-headquartered  specialist in the pyrolysis of end-of-life tires. The collaboration will help expand the recycling of end-of-life  tires through pyrolysis and the recovery of high-quality carbon black (rCB) for the company’s tire  production.  Continental's subsidiary, Reifen-Entsorgungsgesellschaft (REG), will begin supplying end-of-life tires to  Pyrum as early as this month. In the long term, the partners aim is to establish a circular economy concept  for the recycling of end-of-life tires.  Since Pyrum's IPO in 2021, Continental has held a minority stake in the company. Continental’s goal is to recover valuable materials and high-performance raw materials on an industrial  scale in the future for tire production and other uses.  Continental's goal is to successively use 100% sustainably produced materials in its tire products by 2050  at the latest.  WHAT'S NEW IN TIRES  Continental and Pyrum Innovations enter agreement for supply of rCB  (Continental – Hanover, Germany)\"\n",
    "\n",
    "\n",
    "txt = \"\"\n",
    "final_sent = re.compile(\"[a-z]*\\. \")\n",
    "final_para = re.compile(\"\\(*\\-+*\\,+*\\)\")\n",
    "\n",
    "for i in range(len(temp_txt)):\n",
    "    txt = txt + temp_txt[i]\n",
    "    m = final_sent.findall(temp_txt[i])\n",
    "    n = final_para.findall(temp_txt[i])\n",
    "    if m:\n",
    "        txt = txt + \"\\n\"\n",
    "    elif n:\n",
    "        txt = txt + \"\\n\\n\"\n",
    "\n",
    "txt_para = txt.split('\\n\\n')\n",
    "\n",
    "request_url = \"https://openapi.naver.com/v1/papago/n2mt\"\n",
    "headers ={\"X-Naver-Client-Id\": \"bKDF0OQ3yFRyAr3A5WRH\", \"X-Naver-Client-Secret\": \"Vb20egnSMZ\"}\n",
    "\n",
    "txt = open('output.txt', 'w', encoding='utf-8')\n",
    "\n",
    "for i in range(len(txt_para)-1) :\n",
    "    params = {\"source\": \"en\", \"target\": \"ko\", \"text\": txt_para[i]}\n",
    "    response =requests.post(request_url, headers=headers, data=params)\n",
    "    result = response.json()\n",
    "    if result[\"message\"] :\n",
    "        print(\"원문 : \", txt_para[i], file = txt)\n",
    "        print(\"번역결과 : \", result[\"message\"][\"result\"][\"translatedText\"], file = txt)\n",
    "    else : \n",
    "        pass\n",
    "txt.close()\n"
   ]
  },
  {
   "cell_type": "code",
   "execution_count": null,
   "metadata": {},
   "outputs": [],
   "source": []
  },
  {
   "cell_type": "code",
   "execution_count": null,
   "metadata": {},
   "outputs": [],
   "source": []
  }
 ],
 "metadata": {
  "interpreter": {
   "hash": "7f61bbf393fb77bc15d7d65ec76bc1290bb14284644af92bef26890bb2a58427"
  },
  "kernelspec": {
   "display_name": "Python 3.8.10 ('.venv': venv)",
   "language": "python",
   "name": "python3"
  },
  "language_info": {
   "codemirror_mode": {
    "name": "ipython",
    "version": 3
   },
   "file_extension": ".py",
   "mimetype": "text/x-python",
   "name": "python",
   "nbconvert_exporter": "python",
   "pygments_lexer": "ipython3",
   "version": "3.8.10"
  },
  "orig_nbformat": 4
 },
 "nbformat": 4,
 "nbformat_minor": 2
}
