{
 "cells": [
  {
   "cell_type": "code",
   "execution_count": 249,
   "metadata": {},
   "outputs": [],
   "source": [
    "# 라이브러리 Import\n",
    "import re, os\n",
    "import requests\n",
    "from tika import parser\n",
    "import pdfplumber\n",
    "import nltk\n",
    "\n",
    "import pandas as pd"
   ]
  },
  {
   "cell_type": "code",
   "execution_count": 281,
   "metadata": {},
   "outputs": [],
   "source": [
    "stopword = [\"WHAT'S NEW IN TIRES\",\"HAT'S NEW IN TIRES\",\"FINANCE\",\"INANCE\", \"RELATED MATTERS\", \"VEHICLE INDUSTRY NEWS\"]\n",
    "\n",
    "\n",
    "def Smithers_Report_Translator(filepath) :\n",
    "    filename = filepath[7:-4]\n",
    "    df = pd.DataFrame(columns=['title','main'])\n",
    "    pdf = pdfplumber.open(filepath)\n",
    "    page = pdf.pages\n",
    "\n",
    "    for i in range(len(page)):\n",
    "        text = page[i].extract_text()\n",
    "        text = text.replace(')\\n', ')\\n\\n')\n",
    "        if i != 0 :\n",
    "            text = re.split('Page [0-9] of [0-9]', text)\n",
    "            text_para = text[1].split('\\n\\n')\n",
    "        else : \n",
    "            text = re.split('Vol. \\d+, No. \\d+\\S+', text)\n",
    "            text_para = text[1].split('\\n\\n')\n",
    "\n",
    "        for j in range(len(text_para)) :\n",
    "            text_list = str(text_para[j]).split('\\n')\n",
    "            \n",
    "            for sw in stopword:\n",
    "                if sw in text_list:\n",
    "                    print('>>remove: ' + sw)\n",
    "                    text_list.remove(sw)\n",
    "                else:\n",
    "                    pass\n",
    "                \n",
    "                if text_list[0] == \"\" :\n",
    "                    text_main = str(text_list[2:]).replace(\"', '\", \" \")\n",
    "                    text_main = str(text_main[:]).replace(\"']\", \"\")\n",
    "                    text_main = str(text_main[:]).replace(\"['\", \"\")\n",
    "                    text_df = pd.DataFrame([{'title' : text_list[1], 'main' : text_main}])\n",
    "                else :\n",
    "                    text_main = str(text_list[1:]).replace(\"', '\", \" \")\n",
    "                    text_main = str(text_main[:]).replace(\"']\", \"\")\n",
    "                    text_main = str(text_main[:]).replace(\"['\", \"\")\n",
    "                    text_df = pd.DataFrame([{'title' : text_list[0], 'main' : text_main}])\n",
    "                               \n",
    "                # text_dict = {'title' : text_list[0], 'main' : text_main[1:]}\n",
    "            # df = df.append(text_dict, ignore_index=True)\n",
    "            df = pd.concat([df, text_df]).reset_index(drop=True)\n",
    "    df.to_csv(\"{}.csv\".format(filename),encoding='utf-8-sig')"
   ]
  },
  {
   "cell_type": "code",
   "execution_count": 284,
   "metadata": {},
   "outputs": [
    {
     "name": "stdout",
     "output_type": "stream",
     "text": [
      ">>remove: WHAT'S NEW IN TIRES\n",
      ">>remove: FINANCE\n",
      ">>remove: RELATED MATTERS\n",
      ">>remove: VEHICLE INDUSTRY NEWS\n"
     ]
    }
   ],
   "source": [
    "Smithers_Report_Translator('./file/The Smithers Report Mar 10 2022.pdf')"
   ]
  },
  {
   "cell_type": "code",
   "execution_count": 264,
   "metadata": {},
   "outputs": [],
   "source": [
    "pdf = pdfplumber.open('./file/The Smithers Report Mar 16 2022.pdf')\n",
    "page = pdf.pages[:]\n",
    "page"
   ]
  },
  {
   "cell_type": "code",
   "execution_count": 276,
   "metadata": {},
   "outputs": [
    {
     "name": "stdout",
     "output_type": "stream",
     "text": [
      "\n",
      "WHAT'S NEW IN TIRES\n",
      "P Zero All Season Plus with Elect marking improves EV battery life, Pirelli says\n",
      "Pirelli has introduced in North America its first replacement tire developed specifically for electric vehicles, \n",
      "the P Zero All Season Plus with Elect marking. Tires with the company’s Elect marking offer low rolling \n",
      "resistance, which increases driving range while reducing battery consumption. \n",
      "Compared to a non-elect P Zero All Season Plus product, the new Pirelli tire has shown a reduction of 15% \n",
      "of rolling resistance. Another key advantage of the Elect marking is noise reduction, for quiet inside the \n",
      "cabin. Finally, for immediate grip the tire is designed to bite into the asphalt instantly. In terms of structure, \n",
      "the new tire line is designed to support the weight of a battery-powered vehicle.\n",
      "The new P Zero All Season Plus features the Pirelli Noise Cancelling System (PNCS), which uses a sound-\n",
      "absorbing material applied to the inside circumferential wall of the tire to improve driving comfort. PNCS-\n",
      "equipped P Zero All Season Plus Elect tires show a 5% decrease in cabin noise versus the leading original \n",
      "equipment competitor, the company said.\n",
      "A new compound formulation used in the tire increases abrasion resistance to compensate for the high \n",
      "torque and the overall vehicle weight as well as traction in line with the demands from EVs. The adoption of \n",
      "functionalized polymers in the compound also created an improvement in wet grip and handling, Pirelli \n",
      "added.\n",
      "The new P Zero All Season Plus Elect will fit some of the most popular EV high-performance models and \n",
      "will be available from 18 to 20 inches. The tire comes with a 50,000 mile limited treadwear warranty.\n",
      "(Pirelli – Rome, GA)\n",
      "\n",
      "IRSG releases paper on circular economy and future of end-of-life tires\n",
      "The International Rubber Study Group (IRSG) has announced that its current paper, “Rubber Focus March \n",
      "2022” is now available. The briefing paper provides an overview of the Circular Economy: Future of End-of-\n",
      "Life Tires and an update on the current state of knowledge in global end-of-life tire (ELT) management \n",
      "systems.  \n",
      "The report aims to bring together how the ELT management system has evolved and been adopted by \n",
      "various countries over time. The focus paper touches on the challenges currently faced by the industry, the \n",
      "IRSG said. \n",
      "As part of its work program, the secretariat of the IRSG has undertaken a series of briefing papers, each of \n",
      "which will focus on different rubber-related issues.\n",
      "(International Rubber Study Group - Singapore)\n"
     ]
    }
   ],
   "source": [
    "text = page[0].extract_text()\n",
    "text = text.replace(')\\n', ')\\n\\n')\n",
    "\n",
    "text = re.split('Page [0-9] of [0-9]', text)\n",
    "text = re.split('Vol. \\d+, No. \\d+\\S+', text)\n",
    "\n",
    "print(text[1])"
   ]
  },
  {
   "cell_type": "code",
   "execution_count": 240,
   "metadata": {},
   "outputs": [
    {
     "name": "stdout",
     "output_type": "stream",
     "text": [
      "\n",
      "WHAT'S NEW IN TIRES\n",
      "Hercules Tires celebrates 70th anniversary with rebranding initiative\n",
      "As part of its 70th anniversary celebration, Hercules Tires, a subsidiary of American Tire Distributors (ATD), \n",
      "is refreshing its two core brands – Hercules Tires and Ironman Tires with new brand identities, positioning \n",
      "and product innovation.\n",
      "The Hercules rebrand includes a new typography and color palette, as well as an updated graphic of its \n",
      "iconic Strongman logo. Retaining its “Ride On Our Strength” tagline, the update personifies the brand as a \n",
      "passionate, dependable partner that consumers can trust to conquer the trail ahead, the company said. \n",
      "The Ironman brand will also have an updated typography and color palette, as well as a new Ironman icon \n",
      "and tagline, “Tires to Trust,” designed to position the brand as offering customers a no second-guessing, \n",
      "trusted way to get back on the road.\n",
      "Hercules added that it will launch several new products this year, including products for new market \n",
      "segments. The first market launch of the year for the Hercules brand will be the Hercules TIS UT1 Utility \n",
      "Terrain Vehicle (UTV) tire, which will be available to consumers in mid-March. In addition, the refreshed \n",
      "Ironman brand will be used on two new products, a new light truck - the Ironman All Country HT and the \n",
      "Ironman I-Series Gen 2 in the TBR segment.\n",
      "Hercules is also rolling out a marketing program that includes sports sponsorships, social media, \n",
      "influencers, B2B marketing, Google ads and televised product placements. For the Ironman brand, the \n",
      "approach will be simple yet effective focusing on time-strapped customers looking for a tire that gets them \n",
      "back on the road quickly via targeted digital ads, social media and search engine optimization.\n",
      "(Hercules Tire – Findlay, OH)\n",
      "<class 'list'>\n"
     ]
    }
   ],
   "source": [
    "text_para = text.split('\\n\\n')\n",
    "print(text_para[0])"
   ]
  },
  {
   "cell_type": "code",
   "execution_count": 241,
   "metadata": {},
   "outputs": [
    {
     "name": "stdout",
     "output_type": "stream",
     "text": [
      "<class 'list'>\n",
      ">>remove: WHAT'S NEW IN TIRES\n",
      "['', 'Hercules Tires celebrates 70th anniversary with rebranding initiative', 'As part of its 70th anniversary celebration, Hercules Tires, a subsidiary of American Tire Distributors (ATD), ', 'is refreshing its two core brands – Hercules Tires and Ironman Tires with new brand identities, positioning ', 'and product innovation.', 'The Hercules rebrand includes a new typography and color palette, as well as an updated graphic of its ', 'iconic Strongman logo. Retaining its “Ride On Our Strength” tagline, the update personifies the brand as a ', 'passionate, dependable partner that consumers can trust to conquer the trail ahead, the company said. ', 'The Ironman brand will also have an updated typography and color palette, as well as a new Ironman icon ', 'and tagline, “Tires to Trust,” designed to position the brand as offering customers a no second-guessing, ', 'trusted way to get back on the road.', 'Hercules added that it will launch several new products this year, including products for new market ', 'segments. The first market launch of the year for the Hercules brand will be the Hercules TIS UT1 Utility ', 'Terrain Vehicle (UTV) tire, which will be available to consumers in mid-March. In addition, the refreshed ', 'Ironman brand will be used on two new products, a new light truck - the Ironman All Country HT and the ', 'Ironman I-Series Gen 2 in the TBR segment.', 'Hercules is also rolling out a marketing program that includes sports sponsorships, social media, ', 'influencers, B2B marketing, Google ads and televised product placements. For the Ironman brand, the ', 'approach will be simple yet effective focusing on time-strapped customers looking for a tire that gets them ', 'back on the road quickly via targeted digital ads, social media and search engine optimization.', '(Hercules Tire – Findlay, OH)']\n"
     ]
    }
   ],
   "source": [
    "text_list = str(text_para[0]).split('\\n')\n",
    "stopword = [\"WHAT'S NEW IN TIRES\",\"HAT'S NEW IN TIRES\",\"FINANCE\",\"INANCE\",\"RELATED MATTERS\"]\n",
    "\n",
    "for sw in stopword:\n",
    "    if sw in text_list:\n",
    "        print('>>remove: ' + sw)\n",
    "        text_list.remove(sw)\n",
    "    else:\n",
    "        pass\n",
    "print(text_list)\n"
   ]
  },
  {
   "cell_type": "code",
   "execution_count": 248,
   "metadata": {},
   "outputs": [
    {
     "name": "stdout",
     "output_type": "stream",
     "text": [
      "000000  \n",
      "\n",
      "True\n",
      "111111 ['As part of its 70th anniversary celebration, Hercules Tires, a subsidiary of American Tire Distributors (ATD),  is refreshing its two core brands – Hercules Tires and Ironman Tires with new brand identities, positioning  and product innovation. The Hercules rebrand includes a new typography and color palette, as well as an updated graphic of its  iconic Strongman logo. Retaining its “Ride On Our Strength” tagline, the update personifies the brand as a  passionate, dependable partner that consumers can trust to conquer the trail ahead, the company said.  The Ironman brand will also have an updated typography and color palette, as well as a new Ironman icon  and tagline, “Tires to Trust,” designed to position the brand as offering customers a no second-guessing,  trusted way to get back on the road. Hercules added that it will launch several new products this year, including products for new market  segments. The first market launch of the year for the Hercules brand will be the Hercules TIS UT1 Utility  Terrain Vehicle (UTV) tire, which will be available to consumers in mid-March. In addition, the refreshed  Ironman brand will be used on two new products, a new light truck - the Ironman All Country HT and the  Ironman I-Series Gen 2 in the TBR segment. Hercules is also rolling out a marketing program that includes sports sponsorships, social media,  influencers, B2B marketing, Google ads and televised product placements. For the Ironman brand, the  approach will be simple yet effective focusing on time-strapped customers looking for a tire that gets them  back on the road quickly via targeted digital ads, social media and search engine optimization. (Hercules Tire – Findlay, OH)'] \n",
      "\n",
      "222222 'As part of its 70th anniversary celebration, Hercules Tires, a subsidiary of American Tire Distributors (ATD),  is refreshing its two core brands – Hercules Tires and Ironman Tires with new brand identities, positioning  and product innovation. The Hercules rebrand includes a new typography and color palette, as well as an updated graphic of its  iconic Strongman logo. Retaining its “Ride On Our Strength” tagline, the update personifies the brand as a  passionate, dependable partner that consumers can trust to conquer the trail ahead, the company said.  The Ironman brand will also have an updated typography and color palette, as well as a new Ironman icon  and tagline, “Tires to Trust,” designed to position the brand as offering customers a no second-guessing,  trusted way to get back on the road. Hercules added that it will launch several new products this year, including products for new market  segments. The first market launch of the year for the Hercules brand will be the Hercules TIS UT1 Utility  Terrain Vehicle (UTV) tire, which will be available to consumers in mid-March. In addition, the refreshed  Ironman brand will be used on two new products, a new light truck - the Ironman All Country HT and the  Ironman I-Series Gen 2 in the TBR segment. Hercules is also rolling out a marketing program that includes sports sponsorships, social media,  influencers, B2B marketing, Google ads and televised product placements. For the Ironman brand, the  approach will be simple yet effective focusing on time-strapped customers looking for a tire that gets them  back on the road quickly via targeted digital ads, social media and search engine optimization. (Hercules Tire – Findlay, OH)' \n",
      "\n",
      " title: Hercules Tires celebrates 70th anniversary with rebranding initiative \n",
      " main:  'As part of its 70th anniversary celebration, Hercules Tires, a subsidiary of American Tire Distributors (ATD),  is refreshing its two core brands – Hercules Tires and Ironman Tires with new brand identities, positioning  and product innovation. The Hercules rebrand includes a new typography and color palette, as well as an updated graphic of its  iconic Strongman logo. Retaining its “Ride On Our Strength” tagline, the update personifies the brand as a  passionate, dependable partner that consumers can trust to conquer the trail ahead, the company said.  The Ironman brand will also have an updated typography and color palette, as well as a new Ironman icon  and tagline, “Tires to Trust,” designed to position the brand as offering customers a no second-guessing,  trusted way to get back on the road. Hercules added that it will launch several new products this year, including products for new market  segments. The first market launch of the year for the Hercules brand will be the Hercules TIS UT1 Utility  Terrain Vehicle (UTV) tire, which will be available to consumers in mid-March. In addition, the refreshed  Ironman brand will be used on two new products, a new light truck - the Ironman All Country HT and the  Ironman I-Series Gen 2 in the TBR segment. Hercules is also rolling out a marketing program that includes sports sponsorships, social media,  influencers, B2B marketing, Google ads and televised product placements. For the Ironman brand, the  approach will be simple yet effective focusing on time-strapped customers looking for a tire that gets them  back on the road quickly via targeted digital ads, social media and search engine optimization. (Hercules Tire – Findlay, OH)'\n"
     ]
    }
   ],
   "source": [
    "text_main = str(text_list[2:]).replace(\"', '\", \" \")\n",
    "\n",
    "text_main = str(text_main[:]).replace(\"]\", \"\")\n",
    "text_main = str(text_main[:]).replace(\"[\", \"\")\n",
    "\n",
    "\n",
    "print(' title:', text_list[1], '\\n','main: ', text_main)"
   ]
  },
  {
   "cell_type": "code",
   "execution_count": 13,
   "metadata": {},
   "outputs": [
    {
     "data": {
      "text/plain": [
       "['D:\\\\dev\\\\git\\readpdf\\x0cile\\\\The Smithers Report Dec 08 2021.pdf']"
      ]
     },
     "execution_count": 13,
     "metadata": {},
     "output_type": "execute_result"
    }
   ],
   "source": [
    "abc = \"D:\\dev\\git\\readpdf\\file\\The Smithers Report Dec 08 2021.pdf\"\n",
    "abc = [abc]\n",
    "abc\n",
    "# de = abc.replace(\"\\\\\" ,\"/\")\n",
    "# de"
   ]
  },
  {
   "cell_type": "code",
   "execution_count": null,
   "metadata": {},
   "outputs": [],
   "source": []
  }
 ],
 "metadata": {
  "interpreter": {
   "hash": "7f61bbf393fb77bc15d7d65ec76bc1290bb14284644af92bef26890bb2a58427"
  },
  "kernelspec": {
   "display_name": "Python 3.8.10 ('.venv': venv)",
   "language": "python",
   "name": "python3"
  },
  "language_info": {
   "codemirror_mode": {
    "name": "ipython",
    "version": 3
   },
   "file_extension": ".py",
   "mimetype": "text/x-python",
   "name": "python",
   "nbconvert_exporter": "python",
   "pygments_lexer": "ipython3",
   "version": "3.8.10"
  },
  "orig_nbformat": 4
 },
 "nbformat": 4,
 "nbformat_minor": 2
}
